{
 "cells": [
  {
   "cell_type": "markdown",
   "metadata": {},
   "source": [
    "## **Business Problem Understanding**\n",
    "\n",
    "**Context**\n",
    "\n",
    "Telecom companies are always working on challenges in managing customer retention. Churn prediction plays a pivotal role in addressing these challenges by identifying customers who are likely to leave. However, predicting churn is just the starting point. Effective retention strategies require actionable insights to reduce churn rates while optimizing resources to focus on high-value customers. Insights gained from churn prediction can help businesses with:\n",
    "- Customer Segmentation\n",
    "- Revenue Optimization\n",
    "- Retention Strategies, especially address specific pain points of at risk customers\n",
    "\n",
    "**Target**\n",
    "\n",
    "The primary objective of this project is to predict whether a customer will churn (Yes/No) using historical data on customer demographics, services, and billing behavior. This will allow the telecom company to:\n",
    "- Identify customers likely to churn and design effective retention campaigns\n",
    "Provide strategic insights for customer experience improvements\n",
    "- Support proactive decision making to enhance customer loyalty\n",
    "\n",
    "**Problem Statement**\n",
    "\n",
    "The goal of this project is to build a machine learning model that predicts customer churn. Additionally, we aim to analyze key factors contributing to churn to guide the design of effective retention strategies. These predictions will:\n",
    "- Help the company prioritize retention efforts on high-risk customers\n",
    "- Optimize resource allocation for retention campaigns\n",
    "- Provide actionable recommendations to improve customer satisfaction and reduce churn rates\n",
    "\n",
    "**Goals**\n",
    "\n",
    "*Primary Goal* : Develop a classification model to predict customer churn (Yes/No) with high accuracy, precision, recall, and AUC-ROC\n",
    "*Secondary Goal* : \n",
    "- Identify the most important features influencing churn\n",
    "- Provide actionable insights for customer retention strategies, including segmentation and tailored campaigns\n",
    "\n",
    "\n",
    "**Analytical Approach**\n",
    "\n",
    "1. Data Analysis and Feature Engineering\n",
    "- Perform exploratory data analysis (EDA) to understand patterns and trends in the dataset, such as service usage, contract types, and billing behavior\n",
    "- Engineer meaningful features, such as tenure ranges and monthly charges groupings, to capture customer behaviors effectively\n",
    "2. Model Building and Evaluation\n",
    "- Train various machine learning models, such as Logistic Regression, Random Forest, Gradient Boosting, and Stacking Ensemble, to predict Churn\n",
    "-Evaluate model performance using metrics like accuracy, precision, recall, F1-score, and AUC-ROC to select the best performing model\n",
    "3. Insights Generation\n",
    "- Analyze feature importance to understand key drivers of churn\n",
    "- Develop customers segmentations trategies based on churn risk and value\n",
    "4. Deployment\n",
    "- Integrate the best model into a pipeline for streamlined predictions on unseen data\n",
    "- Generate predictions to support customer retention decision making\n",
    "\n",
    "**Metric Evaluation**\n",
    "\n",
    "The following metrics will be used to evaluate model performance:\n",
    "- Accuracy : How often the model correctly predicts churn or no churn\n",
    "- Precision : The proportion of Churn predictions that are correct, focusing on minimizing false positives\n",
    "- Recall : The proportion of actual churn cases the model correctly identifies, focusing on minimizing false negatives\n",
    "- F1-Score : A harmonice mean of precision and recall, providing a balanced view of model performance\n",
    "- AUC-ROC : Evaluates the trade-off between sensitivity (recall) and specificity across different thresholds, measuring the model's ability to distinguish churners from non-churners effectively"
   ]
  },
  {
   "cell_type": "markdown",
   "metadata": {},
   "source": [
    "**Data Preparation**"
   ]
  },
  {
   "cell_type": "markdown",
   "metadata": {},
   "source": [
    "### Data Understanding"
   ]
  },
  {
   "cell_type": "code",
   "execution_count": 1,
   "metadata": {},
   "outputs": [],
   "source": [
    "# Library\n",
    "\n",
    "import pandas as pd\n",
    "import numpy as np\n",
    "\n",
    "# Visualization\n",
    "import matplotlib.pyplot as plt\n",
    "import seaborn as sns\n",
    "import missingno\n",
    "from IPython.display import display\n",
    "\n",
    "# Feature Engineering\n",
    "from sklearn.pipeline import Pipeline\n",
    "from sklearn.impute import SimpleImputer\n",
    "from sklearn.preprocessing import OneHotEncoder, LabelEncoder, OrdinalEncoder, StandardScaler\n",
    "from sklearn.compose import ColumnTransformer\n",
    "import category_encoders as ce\n",
    "\n",
    "# Model Selection\n",
    "from sklearn.linear_model import LogisticRegression\n",
    "from sklearn.tree import DecisionTreeClassifier\n",
    "from sklearn.model_selection import GridSearchCV,StratifiedKFold,train_test_split, cross_val_score\n",
    "from sklearn.metrics import classification_report, confusion_matrix\n",
    "from sklearn.neighbors import KNeighborsClassifier\n",
    "from sklearn.ensemble import RandomForestClassifier, GradientBoostingClassifier, StackingClassifier, VotingClassifier\n",
    "from sklearn import metrics\n",
    "from xgboost import XGBClassifier\n",
    "import lightgbm as lgb\n",
    "from sklearn.metrics import f1_score, accuracy_score, recall_score, precision_score\n",
    "from sklearn.metrics import roc_curve, roc_auc_score, RocCurveDisplay\n",
    "\n",
    "# Imbalance Dataset\n",
    "from imblearn.pipeline import Pipeline\n",
    "from imblearn.over_sampling import RandomOverSampler\n",
    "from imblearn.over_sampling import SMOTE\n",
    "\n",
    "# Ignore Warning\n",
    "import sys\n",
    "import warnings\n",
    "if not sys.warnoptions:\n",
    "    warnings.simplefilter(\"ignore\")\n",
    "\n",
    "# Set max columns\n",
    "pd.set_option('display.max_columns', None)\n",
    "\n",
    "import pickle"
   ]
  },
  {
   "cell_type": "code",
   "execution_count": 2,
   "metadata": {},
   "outputs": [
    {
     "data": {
      "text/html": [
       "<div>\n",
       "<style scoped>\n",
       "    .dataframe tbody tr th:only-of-type {\n",
       "        vertical-align: middle;\n",
       "    }\n",
       "\n",
       "    .dataframe tbody tr th {\n",
       "        vertical-align: top;\n",
       "    }\n",
       "\n",
       "    .dataframe thead th {\n",
       "        text-align: right;\n",
       "    }\n",
       "</style>\n",
       "<table border=\"1\" class=\"dataframe\">\n",
       "  <thead>\n",
       "    <tr style=\"text-align: right;\">\n",
       "      <th></th>\n",
       "      <th>Dependents</th>\n",
       "      <th>tenure</th>\n",
       "      <th>OnlineSecurity</th>\n",
       "      <th>OnlineBackup</th>\n",
       "      <th>InternetService</th>\n",
       "      <th>DeviceProtection</th>\n",
       "      <th>TechSupport</th>\n",
       "      <th>Contract</th>\n",
       "      <th>PaperlessBilling</th>\n",
       "      <th>MonthlyCharges</th>\n",
       "      <th>Churn</th>\n",
       "    </tr>\n",
       "  </thead>\n",
       "  <tbody>\n",
       "    <tr>\n",
       "      <th>0</th>\n",
       "      <td>Yes</td>\n",
       "      <td>9</td>\n",
       "      <td>No</td>\n",
       "      <td>No</td>\n",
       "      <td>DSL</td>\n",
       "      <td>Yes</td>\n",
       "      <td>Yes</td>\n",
       "      <td>Month-to-month</td>\n",
       "      <td>Yes</td>\n",
       "      <td>72.90</td>\n",
       "      <td>Yes</td>\n",
       "    </tr>\n",
       "    <tr>\n",
       "      <th>1</th>\n",
       "      <td>No</td>\n",
       "      <td>14</td>\n",
       "      <td>No</td>\n",
       "      <td>Yes</td>\n",
       "      <td>Fiber optic</td>\n",
       "      <td>Yes</td>\n",
       "      <td>No</td>\n",
       "      <td>Month-to-month</td>\n",
       "      <td>Yes</td>\n",
       "      <td>82.65</td>\n",
       "      <td>No</td>\n",
       "    </tr>\n",
       "    <tr>\n",
       "      <th>2</th>\n",
       "      <td>No</td>\n",
       "      <td>64</td>\n",
       "      <td>Yes</td>\n",
       "      <td>No</td>\n",
       "      <td>DSL</td>\n",
       "      <td>Yes</td>\n",
       "      <td>Yes</td>\n",
       "      <td>Two year</td>\n",
       "      <td>No</td>\n",
       "      <td>47.85</td>\n",
       "      <td>Yes</td>\n",
       "    </tr>\n",
       "    <tr>\n",
       "      <th>3</th>\n",
       "      <td>No</td>\n",
       "      <td>72</td>\n",
       "      <td>Yes</td>\n",
       "      <td>Yes</td>\n",
       "      <td>DSL</td>\n",
       "      <td>Yes</td>\n",
       "      <td>Yes</td>\n",
       "      <td>Two year</td>\n",
       "      <td>No</td>\n",
       "      <td>69.65</td>\n",
       "      <td>No</td>\n",
       "    </tr>\n",
       "    <tr>\n",
       "      <th>4</th>\n",
       "      <td>No</td>\n",
       "      <td>3</td>\n",
       "      <td>No internet service</td>\n",
       "      <td>No internet service</td>\n",
       "      <td>No</td>\n",
       "      <td>No internet service</td>\n",
       "      <td>No internet service</td>\n",
       "      <td>Month-to-month</td>\n",
       "      <td>Yes</td>\n",
       "      <td>23.60</td>\n",
       "      <td>No</td>\n",
       "    </tr>\n",
       "    <tr>\n",
       "      <th>...</th>\n",
       "      <td>...</td>\n",
       "      <td>...</td>\n",
       "      <td>...</td>\n",
       "      <td>...</td>\n",
       "      <td>...</td>\n",
       "      <td>...</td>\n",
       "      <td>...</td>\n",
       "      <td>...</td>\n",
       "      <td>...</td>\n",
       "      <td>...</td>\n",
       "      <td>...</td>\n",
       "    </tr>\n",
       "    <tr>\n",
       "      <th>4925</th>\n",
       "      <td>No</td>\n",
       "      <td>15</td>\n",
       "      <td>No</td>\n",
       "      <td>No</td>\n",
       "      <td>Fiber optic</td>\n",
       "      <td>Yes</td>\n",
       "      <td>Yes</td>\n",
       "      <td>Month-to-month</td>\n",
       "      <td>Yes</td>\n",
       "      <td>103.45</td>\n",
       "      <td>No</td>\n",
       "    </tr>\n",
       "    <tr>\n",
       "      <th>4926</th>\n",
       "      <td>Yes</td>\n",
       "      <td>10</td>\n",
       "      <td>No</td>\n",
       "      <td>No</td>\n",
       "      <td>Fiber optic</td>\n",
       "      <td>Yes</td>\n",
       "      <td>Yes</td>\n",
       "      <td>Month-to-month</td>\n",
       "      <td>Yes</td>\n",
       "      <td>91.10</td>\n",
       "      <td>No</td>\n",
       "    </tr>\n",
       "    <tr>\n",
       "      <th>4927</th>\n",
       "      <td>No</td>\n",
       "      <td>58</td>\n",
       "      <td>No internet service</td>\n",
       "      <td>No internet service</td>\n",
       "      <td>No</td>\n",
       "      <td>No internet service</td>\n",
       "      <td>No internet service</td>\n",
       "      <td>Two year</td>\n",
       "      <td>No</td>\n",
       "      <td>20.75</td>\n",
       "      <td>No</td>\n",
       "    </tr>\n",
       "    <tr>\n",
       "      <th>4928</th>\n",
       "      <td>No</td>\n",
       "      <td>1</td>\n",
       "      <td>No</td>\n",
       "      <td>No</td>\n",
       "      <td>Fiber optic</td>\n",
       "      <td>No</td>\n",
       "      <td>No</td>\n",
       "      <td>Month-to-month</td>\n",
       "      <td>Yes</td>\n",
       "      <td>69.75</td>\n",
       "      <td>Yes</td>\n",
       "    </tr>\n",
       "    <tr>\n",
       "      <th>4929</th>\n",
       "      <td>Yes</td>\n",
       "      <td>4</td>\n",
       "      <td>No internet service</td>\n",
       "      <td>No internet service</td>\n",
       "      <td>No</td>\n",
       "      <td>No internet service</td>\n",
       "      <td>No internet service</td>\n",
       "      <td>Month-to-month</td>\n",
       "      <td>No</td>\n",
       "      <td>20.40</td>\n",
       "      <td>No</td>\n",
       "    </tr>\n",
       "  </tbody>\n",
       "</table>\n",
       "<p>4930 rows × 11 columns</p>\n",
       "</div>"
      ],
      "text/plain": [
       "     Dependents  tenure       OnlineSecurity         OnlineBackup  \\\n",
       "0           Yes       9                   No                   No   \n",
       "1            No      14                   No                  Yes   \n",
       "2            No      64                  Yes                   No   \n",
       "3            No      72                  Yes                  Yes   \n",
       "4            No       3  No internet service  No internet service   \n",
       "...         ...     ...                  ...                  ...   \n",
       "4925         No      15                   No                   No   \n",
       "4926        Yes      10                   No                   No   \n",
       "4927         No      58  No internet service  No internet service   \n",
       "4928         No       1                   No                   No   \n",
       "4929        Yes       4  No internet service  No internet service   \n",
       "\n",
       "     InternetService     DeviceProtection          TechSupport  \\\n",
       "0                DSL                  Yes                  Yes   \n",
       "1        Fiber optic                  Yes                   No   \n",
       "2                DSL                  Yes                  Yes   \n",
       "3                DSL                  Yes                  Yes   \n",
       "4                 No  No internet service  No internet service   \n",
       "...              ...                  ...                  ...   \n",
       "4925     Fiber optic                  Yes                  Yes   \n",
       "4926     Fiber optic                  Yes                  Yes   \n",
       "4927              No  No internet service  No internet service   \n",
       "4928     Fiber optic                   No                   No   \n",
       "4929              No  No internet service  No internet service   \n",
       "\n",
       "            Contract PaperlessBilling  MonthlyCharges Churn  \n",
       "0     Month-to-month              Yes           72.90   Yes  \n",
       "1     Month-to-month              Yes           82.65    No  \n",
       "2           Two year               No           47.85   Yes  \n",
       "3           Two year               No           69.65    No  \n",
       "4     Month-to-month              Yes           23.60    No  \n",
       "...              ...              ...             ...   ...  \n",
       "4925  Month-to-month              Yes          103.45    No  \n",
       "4926  Month-to-month              Yes           91.10    No  \n",
       "4927        Two year               No           20.75    No  \n",
       "4928  Month-to-month              Yes           69.75   Yes  \n",
       "4929  Month-to-month               No           20.40    No  \n",
       "\n",
       "[4930 rows x 11 columns]"
      ]
     },
     "execution_count": 2,
     "metadata": {},
     "output_type": "execute_result"
    }
   ],
   "source": [
    "telco_df = pd.read_csv('data_telco_customer_churn.csv')\n",
    "telco_df"
   ]
  },
  {
   "cell_type": "code",
   "execution_count": 3,
   "metadata": {},
   "outputs": [
    {
     "name": "stdout",
     "output_type": "stream",
     "text": [
      "<class 'pandas.core.frame.DataFrame'>\n",
      "RangeIndex: 4930 entries, 0 to 4929\n",
      "Data columns (total 11 columns):\n",
      " #   Column            Non-Null Count  Dtype  \n",
      "---  ------            --------------  -----  \n",
      " 0   Dependents        4930 non-null   object \n",
      " 1   tenure            4930 non-null   int64  \n",
      " 2   OnlineSecurity    4930 non-null   object \n",
      " 3   OnlineBackup      4930 non-null   object \n",
      " 4   InternetService   4930 non-null   object \n",
      " 5   DeviceProtection  4930 non-null   object \n",
      " 6   TechSupport       4930 non-null   object \n",
      " 7   Contract          4930 non-null   object \n",
      " 8   PaperlessBilling  4930 non-null   object \n",
      " 9   MonthlyCharges    4930 non-null   float64\n",
      " 10  Churn             4930 non-null   object \n",
      "dtypes: float64(1), int64(1), object(9)\n",
      "memory usage: 423.8+ KB\n"
     ]
    }
   ],
   "source": [
    "telco_df.info()"
   ]
  },
  {
   "cell_type": "code",
   "execution_count": 4,
   "metadata": {},
   "outputs": [
    {
     "data": {
      "text/plain": [
       "(4930, 11)"
      ]
     },
     "execution_count": 4,
     "metadata": {},
     "output_type": "execute_result"
    }
   ],
   "source": [
    "telco_df.shape"
   ]
  },
  {
   "cell_type": "markdown",
   "metadata": {},
   "source": [
    "Key Column Description:\n",
    "\n",
    "'tenure' : Duration (in months) the customer has stayed with the company\n",
    "\n",
    "'InternetService', 'Contract', 'PaymentMethod': Features related to customer behavior\n",
    "\n",
    "'MonthlyChargers' : Monthly payment by the customer\n",
    "\n",
    "'Churn' : Target variable, 'Yes' means the customer churned"
   ]
  },
  {
   "cell_type": "code",
   "execution_count": 5,
   "metadata": {},
   "outputs": [
    {
     "data": {
      "text/html": [
       "<div>\n",
       "<style scoped>\n",
       "    .dataframe tbody tr th:only-of-type {\n",
       "        vertical-align: middle;\n",
       "    }\n",
       "\n",
       "    .dataframe tbody tr th {\n",
       "        vertical-align: top;\n",
       "    }\n",
       "\n",
       "    .dataframe thead th {\n",
       "        text-align: right;\n",
       "    }\n",
       "</style>\n",
       "<table border=\"1\" class=\"dataframe\">\n",
       "  <thead>\n",
       "    <tr style=\"text-align: right;\">\n",
       "      <th></th>\n",
       "      <th>dataFeatures</th>\n",
       "      <th>dataType</th>\n",
       "      <th>null</th>\n",
       "      <th>nullPct</th>\n",
       "      <th>unique</th>\n",
       "      <th>uniqueSample</th>\n",
       "    </tr>\n",
       "  </thead>\n",
       "  <tbody>\n",
       "    <tr>\n",
       "      <th>0</th>\n",
       "      <td>Dependents</td>\n",
       "      <td>object</td>\n",
       "      <td>0</td>\n",
       "      <td>0.0</td>\n",
       "      <td>2</td>\n",
       "      <td>[Yes, No]</td>\n",
       "    </tr>\n",
       "    <tr>\n",
       "      <th>1</th>\n",
       "      <td>tenure</td>\n",
       "      <td>int64</td>\n",
       "      <td>0</td>\n",
       "      <td>0.0</td>\n",
       "      <td>73</td>\n",
       "      <td>[47, 49]</td>\n",
       "    </tr>\n",
       "    <tr>\n",
       "      <th>2</th>\n",
       "      <td>OnlineSecurity</td>\n",
       "      <td>object</td>\n",
       "      <td>0</td>\n",
       "      <td>0.0</td>\n",
       "      <td>3</td>\n",
       "      <td>[No internet service, No]</td>\n",
       "    </tr>\n",
       "    <tr>\n",
       "      <th>3</th>\n",
       "      <td>OnlineBackup</td>\n",
       "      <td>object</td>\n",
       "      <td>0</td>\n",
       "      <td>0.0</td>\n",
       "      <td>3</td>\n",
       "      <td>[No internet service, No]</td>\n",
       "    </tr>\n",
       "    <tr>\n",
       "      <th>4</th>\n",
       "      <td>InternetService</td>\n",
       "      <td>object</td>\n",
       "      <td>0</td>\n",
       "      <td>0.0</td>\n",
       "      <td>3</td>\n",
       "      <td>[No, DSL]</td>\n",
       "    </tr>\n",
       "    <tr>\n",
       "      <th>5</th>\n",
       "      <td>DeviceProtection</td>\n",
       "      <td>object</td>\n",
       "      <td>0</td>\n",
       "      <td>0.0</td>\n",
       "      <td>3</td>\n",
       "      <td>[No, No internet service]</td>\n",
       "    </tr>\n",
       "    <tr>\n",
       "      <th>6</th>\n",
       "      <td>TechSupport</td>\n",
       "      <td>object</td>\n",
       "      <td>0</td>\n",
       "      <td>0.0</td>\n",
       "      <td>3</td>\n",
       "      <td>[No, Yes]</td>\n",
       "    </tr>\n",
       "    <tr>\n",
       "      <th>7</th>\n",
       "      <td>Contract</td>\n",
       "      <td>object</td>\n",
       "      <td>0</td>\n",
       "      <td>0.0</td>\n",
       "      <td>3</td>\n",
       "      <td>[One year, Two year]</td>\n",
       "    </tr>\n",
       "    <tr>\n",
       "      <th>8</th>\n",
       "      <td>PaperlessBilling</td>\n",
       "      <td>object</td>\n",
       "      <td>0</td>\n",
       "      <td>0.0</td>\n",
       "      <td>2</td>\n",
       "      <td>[Yes, No]</td>\n",
       "    </tr>\n",
       "    <tr>\n",
       "      <th>9</th>\n",
       "      <td>MonthlyCharges</td>\n",
       "      <td>float64</td>\n",
       "      <td>0</td>\n",
       "      <td>0.0</td>\n",
       "      <td>1422</td>\n",
       "      <td>[24.3, 48.65]</td>\n",
       "    </tr>\n",
       "    <tr>\n",
       "      <th>10</th>\n",
       "      <td>Churn</td>\n",
       "      <td>object</td>\n",
       "      <td>0</td>\n",
       "      <td>0.0</td>\n",
       "      <td>2</td>\n",
       "      <td>[Yes, No]</td>\n",
       "    </tr>\n",
       "  </tbody>\n",
       "</table>\n",
       "</div>"
      ],
      "text/plain": [
       "        dataFeatures dataType  null  nullPct  unique  \\\n",
       "0         Dependents   object     0      0.0       2   \n",
       "1             tenure    int64     0      0.0      73   \n",
       "2     OnlineSecurity   object     0      0.0       3   \n",
       "3       OnlineBackup   object     0      0.0       3   \n",
       "4    InternetService   object     0      0.0       3   \n",
       "5   DeviceProtection   object     0      0.0       3   \n",
       "6        TechSupport   object     0      0.0       3   \n",
       "7           Contract   object     0      0.0       3   \n",
       "8   PaperlessBilling   object     0      0.0       2   \n",
       "9     MonthlyCharges  float64     0      0.0    1422   \n",
       "10             Churn   object     0      0.0       2   \n",
       "\n",
       "                 uniqueSample  \n",
       "0                   [Yes, No]  \n",
       "1                    [47, 49]  \n",
       "2   [No internet service, No]  \n",
       "3   [No internet service, No]  \n",
       "4                   [No, DSL]  \n",
       "5   [No, No internet service]  \n",
       "6                   [No, Yes]  \n",
       "7        [One year, Two year]  \n",
       "8                   [Yes, No]  \n",
       "9               [24.3, 48.65]  \n",
       "10                  [Yes, No]  "
      ]
     },
     "execution_count": 5,
     "metadata": {},
     "output_type": "execute_result"
    }
   ],
   "source": [
    "listItem = []\n",
    "for col in telco_df.columns :\n",
    "    listItem.append([col, telco_df[col].dtype, telco_df[col].isna().sum(), round((telco_df[col].isna().sum()/len(telco_df[col])) * 100,2),\n",
    "                    telco_df[col].nunique(), list(telco_df[col].drop_duplicates().sample(2).values)]);\n",
    "\n",
    "dfDesc = pd.DataFrame(columns=['dataFeatures', 'dataType', 'null', 'nullPct', 'unique', 'uniqueSample'],\n",
    "                     data=listItem)\n",
    "dfDesc"
   ]
  },
  {
   "cell_type": "code",
   "execution_count": 6,
   "metadata": {},
   "outputs": [
    {
     "name": "stdout",
     "output_type": "stream",
     "text": [
      "\n",
      "Unique values in 'Dependents' : ['Yes' 'No']\n",
      "\n",
      "Unique values in 'OnlineSecurity' : ['No' 'Yes' 'No internet service']\n",
      "\n",
      "Unique values in 'OnlineBackup' : ['No' 'Yes' 'No internet service']\n",
      "\n",
      "Unique values in 'InternetService' : ['DSL' 'Fiber optic' 'No']\n",
      "\n",
      "Unique values in 'DeviceProtection' : ['Yes' 'No internet service' 'No']\n",
      "\n",
      "Unique values in 'TechSupport' : ['Yes' 'No' 'No internet service']\n",
      "\n",
      "Unique values in 'Contract' : ['Month-to-month' 'Two year' 'One year']\n",
      "\n",
      "Unique values in 'PaperlessBilling' : ['Yes' 'No']\n",
      "\n",
      "Unique values in 'Churn' : ['Yes' 'No']\n"
     ]
    }
   ],
   "source": [
    "unq_values = telco_df.select_dtypes(include=['object']).columns\n",
    "for col in unq_values:\n",
    "    print(f\"\\nUnique values in '{col}' : {telco_df[col].unique()}\")"
   ]
  },
  {
   "cell_type": "markdown",
   "metadata": {},
   "source": [
    "Check missing value"
   ]
  },
  {
   "cell_type": "code",
   "execution_count": 7,
   "metadata": {},
   "outputs": [
    {
     "data": {
      "text/plain": [
       "Dependents          0\n",
       "tenure              0\n",
       "OnlineSecurity      0\n",
       "OnlineBackup        0\n",
       "InternetService     0\n",
       "DeviceProtection    0\n",
       "TechSupport         0\n",
       "Contract            0\n",
       "PaperlessBilling    0\n",
       "MonthlyCharges      0\n",
       "Churn               0\n",
       "dtype: int64"
      ]
     },
     "execution_count": 7,
     "metadata": {},
     "output_type": "execute_result"
    }
   ],
   "source": [
    "telco_df.isna().sum()"
   ]
  },
  {
   "cell_type": "markdown",
   "metadata": {},
   "source": [
    "Checking Outliers"
   ]
  },
  {
   "cell_type": "code",
   "execution_count": 8,
   "metadata": {},
   "outputs": [
    {
     "data": {
      "image/png": "[encoded data removed]",
      "text/plain": [
       "<Figure size 1400x700 with 2 Axes>"
      ]
     },
     "metadata": {},
     "output_type": "display_data"
    }
   ],
   "source": [
    "telco_out = telco_df[['tenure', 'MonthlyCharges']]\n",
    "\n",
    "plt.figure(figsize=(14,7))\n",
    "plotnumber = 1\n",
    "for feature in telco_out:\n",
    "    axis = plt.subplot(3,3, plotnumber)\n",
    "    sns.boxplot(x=feature, data=telco_df);\n",
    "    plt.title(feature, fontsize=16)\n",
    "    plt.tight_layout()\n",
    "    plotnumber += 1"
   ]
  },
  {
   "cell_type": "code",
   "execution_count": 9,
   "metadata": {},
   "outputs": [
    {
     "name": "stdout",
     "output_type": "stream",
     "text": [
      "tenure\n",
      "Upper fence:  124.0\n",
      "Lower fence:  -60.0\n",
      "\n",
      "MonthlyCharges\n",
      "Upper fence:  169.125\n",
      "Lower fence:  -41.875\n",
      "\n"
     ]
    }
   ],
   "source": [
    "def outliers(col):\n",
    "\n",
    "    q3 = col.describe().loc['75%']\n",
    "    q1 = col.describe().loc['25%']\n",
    "\n",
    "    iqr = q3-q1\n",
    "\n",
    "    upper = q3 + 1.5*iqr\n",
    "    lower = q1 - 1.5*iqr\n",
    "\n",
    "    print('Upper fence: ', upper)\n",
    "    print('Lower fence: ', lower)\n",
    "\n",
    "for i in list(telco_df.describe()):\n",
    "    print(i)\n",
    "    outliers(telco_df[i].round(0))\n",
    "    print()"
   ]
  },
  {
   "cell_type": "code",
   "execution_count": 10,
   "metadata": {},
   "outputs": [
    {
     "name": "stdout",
     "output_type": "stream",
     "text": [
      "tenure outliers:\n",
      "        tenure  MonthlyCharges\n",
      "count  4680.0          4680.0\n",
      "mean     30.0            64.0\n",
      "std      23.0            30.0\n",
      "min       0.0            19.0\n",
      "25%       8.0            36.0\n",
      "50%      26.0            70.0\n",
      "75%      52.0            89.0\n",
      "max      71.0           119.0\n",
      "MonthlyCharges outliers:\n",
      "        tenure  MonthlyCharges\n",
      "count  4930.0          4930.0\n",
      "mean     32.0            65.0\n",
      "std      25.0            30.0\n",
      "min       0.0            19.0\n",
      "25%       9.0            37.0\n",
      "50%      29.0            70.0\n",
      "75%      55.0            90.0\n",
      "max      72.0           119.0\n"
     ]
    }
   ],
   "source": [
    "lower_tenure = 0\n",
    "upper_tenure = 72\n",
    "\n",
    "lower_charges = 0\n",
    "upper_charges = 169.125\n",
    "\n",
    "tenure_outliers = telco_df[(telco_df['tenure'] < lower_tenure) | (telco_df['tenure'] < upper_tenure)]\n",
    "charges_outliers = telco_df[(telco_df['MonthlyCharges'] < lower_charges) | (telco_df['MonthlyCharges'] < upper_charges)]\n",
    "print('tenure outliers:\\n', tenure_outliers.describe().round())\n",
    "print('MonthlyCharges outliers:\\n', charges_outliers.describe().round())\n"
   ]
  },
  {
   "cell_type": "markdown",
   "metadata": {},
   "source": [
    "Checking 0 in tenure"
   ]
  },
  {
   "cell_type": "code",
   "execution_count": 11,
   "metadata": {},
   "outputs": [
    {
     "name": "stdout",
     "output_type": "stream",
     "text": [
      "Number of records with tenure = 0: {len(tenure_zero)}\n",
      "       tenure  MonthlyCharges\n",
      "count     8.0        8.000000\n",
      "mean      0.0       48.768750\n",
      "std       0.0       24.116502\n",
      "min       0.0       19.850000\n",
      "25%       0.0       24.075000\n",
      "50%       0.0       54.300000\n",
      "75%       0.0       64.762500\n",
      "max       0.0       80.850000\n"
     ]
    }
   ],
   "source": [
    "tenure_zero = telco_df[telco_df['tenure'] == 0]\n",
    "print(\"Number of records with tenure = 0: {len(tenure_zero)}\")\n",
    "print(tenure_zero.describe())"
   ]
  },
  {
   "cell_type": "markdown",
   "metadata": {},
   "source": [
    "Checking 0 in MonthlyCharges"
   ]
  },
  {
   "cell_type": "code",
   "execution_count": 12,
   "metadata": {},
   "outputs": [
    {
     "name": "stdout",
     "output_type": "stream",
     "text": [
      "Number of records with tenure = 0: {len(charges_zero)}\n",
      "       tenure  MonthlyCharges\n",
      "count     0.0             0.0\n",
      "mean      NaN             NaN\n",
      "std       NaN             NaN\n",
      "min       NaN             NaN\n",
      "25%       NaN             NaN\n",
      "50%       NaN             NaN\n",
      "75%       NaN             NaN\n",
      "max       NaN             NaN\n"
     ]
    }
   ],
   "source": [
    "charges_zero = telco_df[telco_df['MonthlyCharges'] == 0]\n",
    "print(\"Number of records with tenure = 0: {len(charges_zero)}\")\n",
    "print(charges_zero.describe())"
   ]
  },
  {
   "cell_type": "markdown",
   "metadata": {},
   "source": [
    "Checking Tenure=0 and Churn=Yes"
   ]
  },
  {
   "cell_type": "code",
   "execution_count": 13,
   "metadata": {},
   "outputs": [
    {
     "data": {
      "text/plain": [
       "0"
      ]
     },
     "execution_count": 13,
     "metadata": {},
     "output_type": "execute_result"
    }
   ],
   "source": [
    "telco_df[(telco_df['tenure'] == 0) & (telco_df['Churn'] == 'Yes')].shape[0]"
   ]
  },
  {
   "cell_type": "markdown",
   "metadata": {},
   "source": [
    "Drop 0 in Tenure with new dataframe to clean"
   ]
  },
  {
   "cell_type": "code",
   "execution_count": 14,
   "metadata": {},
   "outputs": [
    {
     "name": "stdout",
     "output_type": "stream",
     "text": [
      "Number of rows before removing tenure = 0 :\n",
      "4930\n",
      "Number of rows after removing tenure = 0 :\n",
      "4922\n"
     ]
    }
   ],
   "source": [
    "telco2_df = telco_df[telco_df['tenure'] > 0]\n",
    "print(\"Number of rows before removing tenure = 0 :\")\n",
    "print(telco_df.shape[0])\n",
    "print(\"Number of rows after removing tenure = 0 :\")\n",
    "print(telco2_df.shape[0])"
   ]
  },
  {
   "cell_type": "code",
   "execution_count": 15,
   "metadata": {},
   "outputs": [
    {
     "data": {
      "text/html": [
       "<div>\n",
       "<style scoped>\n",
       "    .dataframe tbody tr th:only-of-type {\n",
       "        vertical-align: middle;\n",
       "    }\n",
       "\n",
       "    .dataframe tbody tr th {\n",
       "        vertical-align: top;\n",
       "    }\n",
       "\n",
       "    .dataframe thead th {\n",
       "        text-align: right;\n",
       "    }\n",
       "</style>\n",
       "<table border=\"1\" class=\"dataframe\">\n",
       "  <thead>\n",
       "    <tr style=\"text-align: right;\">\n",
       "      <th></th>\n",
       "      <th>dataFeatures</th>\n",
       "      <th>dataType</th>\n",
       "      <th>null</th>\n",
       "      <th>nullPct</th>\n",
       "      <th>unique</th>\n",
       "      <th>uniqueSample</th>\n",
       "    </tr>\n",
       "  </thead>\n",
       "  <tbody>\n",
       "    <tr>\n",
       "      <th>0</th>\n",
       "      <td>Dependents</td>\n",
       "      <td>object</td>\n",
       "      <td>0</td>\n",
       "      <td>0.0</td>\n",
       "      <td>2</td>\n",
       "      <td>[No, Yes]</td>\n",
       "    </tr>\n",
       "    <tr>\n",
       "      <th>1</th>\n",
       "      <td>tenure</td>\n",
       "      <td>int64</td>\n",
       "      <td>0</td>\n",
       "      <td>0.0</td>\n",
       "      <td>72</td>\n",
       "      <td>[26, 55]</td>\n",
       "    </tr>\n",
       "    <tr>\n",
       "      <th>2</th>\n",
       "      <td>OnlineSecurity</td>\n",
       "      <td>object</td>\n",
       "      <td>0</td>\n",
       "      <td>0.0</td>\n",
       "      <td>3</td>\n",
       "      <td>[Yes, No]</td>\n",
       "    </tr>\n",
       "    <tr>\n",
       "      <th>3</th>\n",
       "      <td>OnlineBackup</td>\n",
       "      <td>object</td>\n",
       "      <td>0</td>\n",
       "      <td>0.0</td>\n",
       "      <td>3</td>\n",
       "      <td>[No, No internet service]</td>\n",
       "    </tr>\n",
       "    <tr>\n",
       "      <th>4</th>\n",
       "      <td>InternetService</td>\n",
       "      <td>object</td>\n",
       "      <td>0</td>\n",
       "      <td>0.0</td>\n",
       "      <td>3</td>\n",
       "      <td>[DSL, Fiber optic]</td>\n",
       "    </tr>\n",
       "    <tr>\n",
       "      <th>5</th>\n",
       "      <td>DeviceProtection</td>\n",
       "      <td>object</td>\n",
       "      <td>0</td>\n",
       "      <td>0.0</td>\n",
       "      <td>3</td>\n",
       "      <td>[No internet service, Yes]</td>\n",
       "    </tr>\n",
       "    <tr>\n",
       "      <th>6</th>\n",
       "      <td>TechSupport</td>\n",
       "      <td>object</td>\n",
       "      <td>0</td>\n",
       "      <td>0.0</td>\n",
       "      <td>3</td>\n",
       "      <td>[No internet service, Yes]</td>\n",
       "    </tr>\n",
       "    <tr>\n",
       "      <th>7</th>\n",
       "      <td>Contract</td>\n",
       "      <td>object</td>\n",
       "      <td>0</td>\n",
       "      <td>0.0</td>\n",
       "      <td>3</td>\n",
       "      <td>[Two year, One year]</td>\n",
       "    </tr>\n",
       "    <tr>\n",
       "      <th>8</th>\n",
       "      <td>PaperlessBilling</td>\n",
       "      <td>object</td>\n",
       "      <td>0</td>\n",
       "      <td>0.0</td>\n",
       "      <td>2</td>\n",
       "      <td>[No, Yes]</td>\n",
       "    </tr>\n",
       "    <tr>\n",
       "      <th>9</th>\n",
       "      <td>MonthlyCharges</td>\n",
       "      <td>float64</td>\n",
       "      <td>0</td>\n",
       "      <td>0.0</td>\n",
       "      <td>1421</td>\n",
       "      <td>[102.65, 92.85]</td>\n",
       "    </tr>\n",
       "    <tr>\n",
       "      <th>10</th>\n",
       "      <td>Churn</td>\n",
       "      <td>object</td>\n",
       "      <td>0</td>\n",
       "      <td>0.0</td>\n",
       "      <td>2</td>\n",
       "      <td>[No, Yes]</td>\n",
       "    </tr>\n",
       "  </tbody>\n",
       "</table>\n",
       "</div>"
      ],
      "text/plain": [
       "        dataFeatures dataType  null  nullPct  unique  \\\n",
       "0         Dependents   object     0      0.0       2   \n",
       "1             tenure    int64     0      0.0      72   \n",
       "2     OnlineSecurity   object     0      0.0       3   \n",
       "3       OnlineBackup   object     0      0.0       3   \n",
       "4    InternetService   object     0      0.0       3   \n",
       "5   DeviceProtection   object     0      0.0       3   \n",
       "6        TechSupport   object     0      0.0       3   \n",
       "7           Contract   object     0      0.0       3   \n",
       "8   PaperlessBilling   object     0      0.0       2   \n",
       "9     MonthlyCharges  float64     0      0.0    1421   \n",
       "10             Churn   object     0      0.0       2   \n",
       "\n",
       "                  uniqueSample  \n",
       "0                    [No, Yes]  \n",
       "1                     [26, 55]  \n",
       "2                    [Yes, No]  \n",
       "3    [No, No internet service]  \n",
       "4           [DSL, Fiber optic]  \n",
       "5   [No internet service, Yes]  \n",
       "6   [No internet service, Yes]  \n",
       "7         [Two year, One year]  \n",
       "8                    [No, Yes]  \n",
       "9              [102.65, 92.85]  \n",
       "10                   [No, Yes]  "
      ]
     },
     "execution_count": 15,
     "metadata": {},
     "output_type": "execute_result"
    }
   ],
   "source": [
    "listItem = []\n",
    "for col in telco2_df.columns :\n",
    "    listItem.append([col, telco2_df[col].dtype, telco_df[col].isna().sum(), round((telco2_df[col].isna().sum()/len(telco2_df[col])) * 100,2),\n",
    "                    telco2_df[col].nunique(), list(telco2_df[col].drop_duplicates().sample(2).values)]);\n",
    "\n",
    "dfDesc = pd.DataFrame(columns=['dataFeatures', 'dataType', 'null', 'nullPct', 'unique', 'uniqueSample'],\n",
    "                     data=listItem)\n",
    "dfDesc"
   ]
  },
  {
   "cell_type": "code",
   "execution_count": 16,
   "metadata": {},
   "outputs": [
    {
     "name": "stdout",
     "output_type": "stream",
     "text": [
      "tenure\n",
      "Upper fence:  126.5\n",
      "Lower fence:  -61.5\n",
      "\n",
      "MonthlyCharges\n",
      "Upper fence:  167.625\n",
      "Lower fence:  -39.375\n",
      "\n"
     ]
    }
   ],
   "source": [
    "def outliers(col):\n",
    "\n",
    "    q3 = col.describe().loc['75%']\n",
    "    q1 = col.describe().loc['25%']\n",
    "\n",
    "    iqr = q3-q1\n",
    "\n",
    "    upper = q3 + 1.5*iqr\n",
    "    lower = q1 - 1.5*iqr\n",
    "\n",
    "    print('Upper fence: ', upper)\n",
    "    print('Lower fence: ', lower)\n",
    "\n",
    "for i in list(telco2_df.describe()):\n",
    "    print(i)\n",
    "    outliers(telco2_df[i].round(0))\n",
    "    print()"
   ]
  },
  {
   "cell_type": "markdown",
   "metadata": {},
   "source": [
    "Both 'tenure' and 'MonthlyCharges' fall within their respective fences. Negative lower fences are irrelevant due to the nature of the data since there're no negative numbers. So the dataset is pretty much clean for these features, and no further action is needed for handling outliers."
   ]
  },
  {
   "cell_type": "markdown",
   "metadata": {},
   "source": [
    "### **EDA**"
   ]
  },
  {
   "cell_type": "markdown",
   "metadata": {},
   "source": [
    "Replace 'No internet service' with 'No' for the below mentioned columns"
   ]
  },
  {
   "cell_type": "code",
   "execution_count": 17,
   "metadata": {},
   "outputs": [],
   "source": [
    "cols = ['OnlineSecurity', 'OnlineBackup', 'DeviceProtection', 'TechSupport']\n",
    "for i in cols :\n",
    "    telco2_df[i] = telco2_df[i].replace({'No internet service' : 'No'})"
   ]
  },
  {
   "cell_type": "markdown",
   "metadata": {},
   "source": [
    "Visualization for Total Customer Churn"
   ]
  },
  {
   "cell_type": "code",
   "execution_count": 18,
   "metadata": {},
   "outputs": [
    {
     "data": {
      "image/png": "[encoded data removed]",
      "text/plain": [
       "<Figure size 800x800 with 1 Axes>"
      ]
     },
     "metadata": {},
     "output_type": "display_data"
    }
   ],
   "source": [
    "churn_counts = telco2_df['Churn'].value_counts()\n",
    "churn_percents = (churn_counts / len(telco2_df)) * 100\n",
    "\n",
    "plt.figure(figsize=(8,8))\n",
    "plt.pie(churn_counts, labels=churn_counts.index, autopct='%1.1f%%', startangle=90, colors=['skyblue', 'orange'])\n",
    "plt.title('Churn Percentage', fontsize=16)\n",
    "plt.show()"
   ]
  },
  {
   "cell_type": "markdown",
   "metadata": {},
   "source": [
    "Churn vs Other Features"
   ]
  },
  {
   "cell_type": "code",
   "execution_count": 19,
   "metadata": {},
   "outputs": [
    {
     "data": {
      "image/png": "[encoded data removed]",
      "text/plain": [
       "<Figure size 1700x1200 with 4 Axes>"
      ]
     },
     "metadata": {},
     "output_type": "display_data"
    }
   ],
   "source": [
    "plt.figure(figsize=(17,12))\n",
    "\n",
    "plt.subplot(221)\n",
    "sns.histplot(data=telco2_df,x='Contract',hue='Churn',kde=True)\n",
    "plt.title('Churn vs Contract',fontsize=20)\n",
    "\n",
    "plt.subplot(222)\n",
    "sns.histplot(data=telco2_df,x='Dependents',hue='Churn',kde=True)\n",
    "plt.title('Churn vs Dependent',fontsize=20)\n",
    "\n",
    "plt.subplot(223)\n",
    "sns.countplot(data=telco2_df,x='OnlineSecurity', hue='Churn')\n",
    "plt.title('Churn vs OnlineSecurity',fontsize=20)\n",
    "\n",
    "plt.subplot(224)\n",
    "sns.countplot(data=telco2_df,x='PaperlessBilling', hue='Churn')\n",
    "plt.title('Churn vs Paperless Billing',fontsize=20)\n",
    "plt.show()"
   ]
  },
  {
   "cell_type": "code",
   "execution_count": 20,
   "metadata": {},
   "outputs": [
    {
     "name": "stdout",
     "output_type": "stream",
     "text": [
      "Churn vs Contract Results:\n",
      "         Contract Churn  Count\n",
      "0  Month-to-month    No   1543\n",
      "1  Month-to-month   Yes   1178\n",
      "2        One year    No    946\n",
      "3        One year   Yes    106\n",
      "4        Two year    No   1117\n",
      "5        Two year   Yes     32\n",
      "Churn vs Dependents Results:\n",
      "  Dependents Churn  Count\n",
      "0         No    No   2355\n",
      "1         No   Yes   1091\n",
      "2        Yes    No   1251\n",
      "3        Yes   Yes    225\n",
      "Churn vs Online Security Results:\n",
      "  OnlineSecurity Churn  Count\n",
      "0             No    No   2389\n",
      "1             No   Yes   1104\n",
      "2            Yes    No   1217\n",
      "3            Yes   Yes    212\n",
      "Churn vs Paperless Billing Results:\n",
      "  PaperlessBilling Churn  Count\n",
      "0               No    No   1642\n",
      "1               No   Yes    325\n",
      "2              Yes    No   1964\n",
      "3              Yes   Yes    991\n"
     ]
    }
   ],
   "source": [
    "churn_contract = telco2_df.groupby(['Contract', 'Churn']).size().reset_index(name='Count')\n",
    "print(\"Churn vs Contract Results:\")\n",
    "print(churn_contract)\n",
    "\n",
    "churn_dependents = telco2_df.groupby(['Dependents', 'Churn']).size().reset_index(name='Count')\n",
    "print(\"Churn vs Dependents Results:\")\n",
    "print(churn_dependents)\n",
    "\n",
    "churn_onsec = telco2_df.groupby(['OnlineSecurity', 'Churn']).size().reset_index(name='Count')\n",
    "print(\"Churn vs Online Security Results:\")\n",
    "print(churn_onsec)\n",
    "\n",
    "churn_paperless = telco2_df.groupby(['PaperlessBilling', 'Churn']).size().reset_index(name='Count')\n",
    "print(\"Churn vs Paperless Billing Results:\")\n",
    "print(churn_paperless)"
   ]
  },
  {
   "cell_type": "code",
   "execution_count": 21,
   "metadata": {},
   "outputs": [
    {
     "data": {
      "image/png": "[encoded data removed]",
      "text/plain": [
       "<Figure size 1700x1200 with 2 Axes>"
      ]
     },
     "metadata": {},
     "output_type": "display_data"
    }
   ],
   "source": [
    "plt.figure(figsize=(17,12))\n",
    "\n",
    "plt.subplot(221)\n",
    "sns.histplot(data=telco2_df,x='tenure',hue='Churn',kde=True)\n",
    "plt.title('Churn vs Tenure',fontsize=20)\n",
    "\n",
    "plt.subplot(222)\n",
    "sns.histplot(data=telco2_df,x='MonthlyCharges',hue='Churn',kde=True)\n",
    "plt.title('Churn vs Monthly Charges',fontsize=20)\n",
    "plt.show()"
   ]
  },
  {
   "cell_type": "code",
   "execution_count": 22,
   "metadata": {},
   "outputs": [
    {
     "name": "stdout",
     "output_type": "stream",
     "text": [
      "Churn Counts by Tenure Group:\n",
      "   tenure_group Churn  Count\n",
      "0          0-10    No    686\n",
      "1          0-10   Yes    694\n",
      "2         11-20    No    424\n",
      "3         11-20   Yes    193\n",
      "4         21-30    No    411\n",
      "5         21-30   Yes    127\n",
      "6         31-40    No    353\n",
      "7         31-40   Yes     97\n",
      "8         41-50    No    386\n",
      "9         41-50   Yes     77\n",
      "10        51-60    No    435\n",
      "11        51-60   Yes     65\n",
      "12        61-72    No    911\n",
      "13        61-72   Yes     63\n"
     ]
    }
   ],
   "source": [
    "#Tenure Grouping\n",
    "tenure_bins = [0, 10, 20, 30, 40, 50, 60, 72]\n",
    "tenure_labels = ['0-10', '11-20', '21-30', '31-40', '41-50', '51-60', '61-72']\n",
    "telco2_df['tenure_group'] = pd.cut(telco2_df['tenure'], bins=tenure_bins, labels=tenure_labels, include_lowest=True)\n",
    "\n",
    "#MonthlyCharges Grouping\n",
    "mc_bins = [0, 20, 40, 60, 80, 100, 120]\n",
    "mc_labels = ['$0-20', '$21-40', '$41-60', '$61-80', '$81-100', '$101-120']\n",
    "telco2_df['mc_group'] = pd.cut(telco2_df['MonthlyCharges'], bins=mc_bins, labels=mc_labels, include_lowest=True)\n",
    "\n",
    "churn_tenure = telco2_df.groupby(['tenure_group', 'Churn']).size().reset_index(name='Count')\n",
    "print('Churn Counts by Tenure Group:')\n",
    "print(churn_tenure)"
   ]
  },
  {
   "cell_type": "code",
   "execution_count": 23,
   "metadata": {},
   "outputs": [
    {
     "name": "stdout",
     "output_type": "stream",
     "text": [
      "Churn Counts by Monthly Charges Group:\n",
      "    mc_group Churn  Count\n",
      "0      $0-20    No    410\n",
      "1      $0-20   Yes     39\n",
      "2     $21-40    No    706\n",
      "3     $21-40   Yes    106\n",
      "4     $41-60    No    570\n",
      "5     $41-60   Yes    197\n",
      "6     $61-80    No    704\n",
      "7     $61-80   Yes    330\n",
      "8    $81-100    No    757\n",
      "9    $81-100   Yes    474\n",
      "10  $101-120    No    459\n",
      "11  $101-120   Yes    170\n"
     ]
    }
   ],
   "source": [
    "churn_mc = telco2_df.groupby(['mc_group', 'Churn']).size().reset_index(name='Count')\n",
    "print('Churn Counts by Monthly Charges Group:')\n",
    "print(churn_mc)"
   ]
  },
  {
   "cell_type": "code",
   "execution_count": 24,
   "metadata": {},
   "outputs": [
    {
     "data": {
      "image/png": "[encoded data removed]",
      "text/plain": [
       "<Figure size 1700x1200 with 2 Axes>"
      ]
     },
     "metadata": {},
     "output_type": "display_data"
    }
   ],
   "source": [
    "plt.figure(figsize=(17,12))\n",
    "\n",
    "plt.subplot(221)\n",
    "sns.barplot(data=churn_tenure,x='tenure_group', y='Count', hue='Churn')\n",
    "plt.title('Churn vs Tenure',fontsize=20)\n",
    "\n",
    "plt.subplot(222)\n",
    "sns.barplot(data=churn_mc,x='mc_group', y='Count', hue='Churn')\n",
    "plt.title('Churn vs Monthly Charges',fontsize=20)\n",
    "plt.show()"
   ]
  },
  {
   "cell_type": "markdown",
   "metadata": {},
   "source": [
    "### **Data Preprocessing**"
   ]
  },
  {
   "cell_type": "markdown",
   "metadata": {},
   "source": [
    "Encode Features"
   ]
  },
  {
   "cell_type": "code",
   "execution_count": 25,
   "metadata": {},
   "outputs": [],
   "source": [
    "#Binary encoding for Binary features\n",
    "binary = ['Dependents', 'OnlineSecurity', 'OnlineBackup', 'DeviceProtection', 'TechSupport', 'PaperlessBilling', 'Churn']\n",
    "for feature in binary:\n",
    "    telco2_df[feature] = telco2_df[feature].apply(lambda x:1 if x == 'Yes' else 0)\n",
    "\n",
    "#One hot encode categorical features\n",
    "telco2_df = pd.get_dummies(telco2_df, columns=['Contract', 'InternetService', 'tenure_group', 'mc_group'], drop_first=True)"
   ]
  },
  {
   "cell_type": "code",
   "execution_count": 26,
   "metadata": {},
   "outputs": [
    {
     "data": {
      "text/html": [
       "<div>\n",
       "<style scoped>\n",
       "    .dataframe tbody tr th:only-of-type {\n",
       "        vertical-align: middle;\n",
       "    }\n",
       "\n",
       "    .dataframe tbody tr th {\n",
       "        vertical-align: top;\n",
       "    }\n",
       "\n",
       "    .dataframe thead th {\n",
       "        text-align: right;\n",
       "    }\n",
       "</style>\n",
       "<table border=\"1\" class=\"dataframe\">\n",
       "  <thead>\n",
       "    <tr style=\"text-align: right;\">\n",
       "      <th></th>\n",
       "      <th>Dependents</th>\n",
       "      <th>tenure</th>\n",
       "      <th>OnlineSecurity</th>\n",
       "      <th>OnlineBackup</th>\n",
       "      <th>DeviceProtection</th>\n",
       "      <th>TechSupport</th>\n",
       "      <th>PaperlessBilling</th>\n",
       "      <th>MonthlyCharges</th>\n",
       "      <th>Churn</th>\n",
       "      <th>Contract_One year</th>\n",
       "      <th>Contract_Two year</th>\n",
       "      <th>InternetService_Fiber optic</th>\n",
       "      <th>InternetService_No</th>\n",
       "      <th>tenure_group_11-20</th>\n",
       "      <th>tenure_group_21-30</th>\n",
       "      <th>tenure_group_31-40</th>\n",
       "      <th>tenure_group_41-50</th>\n",
       "      <th>tenure_group_51-60</th>\n",
       "      <th>tenure_group_61-72</th>\n",
       "      <th>mc_group_$21-40</th>\n",
       "      <th>mc_group_$41-60</th>\n",
       "      <th>mc_group_$61-80</th>\n",
       "      <th>mc_group_$81-100</th>\n",
       "      <th>mc_group_$101-120</th>\n",
       "    </tr>\n",
       "  </thead>\n",
       "  <tbody>\n",
       "    <tr>\n",
       "      <th>0</th>\n",
       "      <td>1</td>\n",
       "      <td>9</td>\n",
       "      <td>0</td>\n",
       "      <td>0</td>\n",
       "      <td>1</td>\n",
       "      <td>1</td>\n",
       "      <td>1</td>\n",
       "      <td>72.90</td>\n",
       "      <td>1</td>\n",
       "      <td>False</td>\n",
       "      <td>False</td>\n",
       "      <td>False</td>\n",
       "      <td>False</td>\n",
       "      <td>False</td>\n",
       "      <td>False</td>\n",
       "      <td>False</td>\n",
       "      <td>False</td>\n",
       "      <td>False</td>\n",
       "      <td>False</td>\n",
       "      <td>False</td>\n",
       "      <td>False</td>\n",
       "      <td>True</td>\n",
       "      <td>False</td>\n",
       "      <td>False</td>\n",
       "    </tr>\n",
       "    <tr>\n",
       "      <th>1</th>\n",
       "      <td>0</td>\n",
       "      <td>14</td>\n",
       "      <td>0</td>\n",
       "      <td>1</td>\n",
       "      <td>1</td>\n",
       "      <td>0</td>\n",
       "      <td>1</td>\n",
       "      <td>82.65</td>\n",
       "      <td>0</td>\n",
       "      <td>False</td>\n",
       "      <td>False</td>\n",
       "      <td>True</td>\n",
       "      <td>False</td>\n",
       "      <td>True</td>\n",
       "      <td>False</td>\n",
       "      <td>False</td>\n",
       "      <td>False</td>\n",
       "      <td>False</td>\n",
       "      <td>False</td>\n",
       "      <td>False</td>\n",
       "      <td>False</td>\n",
       "      <td>False</td>\n",
       "      <td>True</td>\n",
       "      <td>False</td>\n",
       "    </tr>\n",
       "    <tr>\n",
       "      <th>2</th>\n",
       "      <td>0</td>\n",
       "      <td>64</td>\n",
       "      <td>1</td>\n",
       "      <td>0</td>\n",
       "      <td>1</td>\n",
       "      <td>1</td>\n",
       "      <td>0</td>\n",
       "      <td>47.85</td>\n",
       "      <td>1</td>\n",
       "      <td>False</td>\n",
       "      <td>True</td>\n",
       "      <td>False</td>\n",
       "      <td>False</td>\n",
       "      <td>False</td>\n",
       "      <td>False</td>\n",
       "      <td>False</td>\n",
       "      <td>False</td>\n",
       "      <td>False</td>\n",
       "      <td>True</td>\n",
       "      <td>False</td>\n",
       "      <td>True</td>\n",
       "      <td>False</td>\n",
       "      <td>False</td>\n",
       "      <td>False</td>\n",
       "    </tr>\n",
       "    <tr>\n",
       "      <th>3</th>\n",
       "      <td>0</td>\n",
       "      <td>72</td>\n",
       "      <td>1</td>\n",
       "      <td>1</td>\n",
       "      <td>1</td>\n",
       "      <td>1</td>\n",
       "      <td>0</td>\n",
       "      <td>69.65</td>\n",
       "      <td>0</td>\n",
       "      <td>False</td>\n",
       "      <td>True</td>\n",
       "      <td>False</td>\n",
       "      <td>False</td>\n",
       "      <td>False</td>\n",
       "      <td>False</td>\n",
       "      <td>False</td>\n",
       "      <td>False</td>\n",
       "      <td>False</td>\n",
       "      <td>True</td>\n",
       "      <td>False</td>\n",
       "      <td>False</td>\n",
       "      <td>True</td>\n",
       "      <td>False</td>\n",
       "      <td>False</td>\n",
       "    </tr>\n",
       "    <tr>\n",
       "      <th>4</th>\n",
       "      <td>0</td>\n",
       "      <td>3</td>\n",
       "      <td>0</td>\n",
       "      <td>0</td>\n",
       "      <td>0</td>\n",
       "      <td>0</td>\n",
       "      <td>1</td>\n",
       "      <td>23.60</td>\n",
       "      <td>0</td>\n",
       "      <td>False</td>\n",
       "      <td>False</td>\n",
       "      <td>False</td>\n",
       "      <td>True</td>\n",
       "      <td>False</td>\n",
       "      <td>False</td>\n",
       "      <td>False</td>\n",
       "      <td>False</td>\n",
       "      <td>False</td>\n",
       "      <td>False</td>\n",
       "      <td>True</td>\n",
       "      <td>False</td>\n",
       "      <td>False</td>\n",
       "      <td>False</td>\n",
       "      <td>False</td>\n",
       "    </tr>\n",
       "  </tbody>\n",
       "</table>\n",
       "</div>"
      ],
      "text/plain": [
       "   Dependents  tenure  OnlineSecurity  OnlineBackup  DeviceProtection  \\\n",
       "0           1       9               0             0                 1   \n",
       "1           0      14               0             1                 1   \n",
       "2           0      64               1             0                 1   \n",
       "3           0      72               1             1                 1   \n",
       "4           0       3               0             0                 0   \n",
       "\n",
       "   TechSupport  PaperlessBilling  MonthlyCharges  Churn  Contract_One year  \\\n",
       "0            1                 1           72.90      1              False   \n",
       "1            0                 1           82.65      0              False   \n",
       "2            1                 0           47.85      1              False   \n",
       "3            1                 0           69.65      0              False   \n",
       "4            0                 1           23.60      0              False   \n",
       "\n",
       "   Contract_Two year  InternetService_Fiber optic  InternetService_No  \\\n",
       "0              False                        False               False   \n",
       "1              False                         True               False   \n",
       "2               True                        False               False   \n",
       "3               True                        False               False   \n",
       "4              False                        False                True   \n",
       "\n",
       "   tenure_group_11-20  tenure_group_21-30  tenure_group_31-40  \\\n",
       "0               False               False               False   \n",
       "1                True               False               False   \n",
       "2               False               False               False   \n",
       "3               False               False               False   \n",
       "4               False               False               False   \n",
       "\n",
       "   tenure_group_41-50  tenure_group_51-60  tenure_group_61-72  \\\n",
       "0               False               False               False   \n",
       "1               False               False               False   \n",
       "2               False               False                True   \n",
       "3               False               False                True   \n",
       "4               False               False               False   \n",
       "\n",
       "   mc_group_$21-40  mc_group_$41-60  mc_group_$61-80  mc_group_$81-100  \\\n",
       "0            False            False             True             False   \n",
       "1            False            False            False              True   \n",
       "2            False             True            False             False   \n",
       "3            False            False             True             False   \n",
       "4             True            False            False             False   \n",
       "\n",
       "   mc_group_$101-120  \n",
       "0              False  \n",
       "1              False  \n",
       "2              False  \n",
       "3              False  \n",
       "4              False  "
      ]
     },
     "execution_count": 26,
     "metadata": {},
     "output_type": "execute_result"
    }
   ],
   "source": [
    "telco2_df.head()"
   ]
  },
  {
   "cell_type": "code",
   "execution_count": 27,
   "metadata": {},
   "outputs": [
    {
     "name": "stdout",
     "output_type": "stream",
     "text": [
      "Dependents                       int64\n",
      "tenure                           int64\n",
      "OnlineSecurity                   int64\n",
      "OnlineBackup                     int64\n",
      "DeviceProtection                 int64\n",
      "TechSupport                      int64\n",
      "PaperlessBilling                 int64\n",
      "MonthlyCharges                 float64\n",
      "Churn                            int64\n",
      "Contract_One year                 bool\n",
      "Contract_Two year                 bool\n",
      "InternetService_Fiber optic       bool\n",
      "InternetService_No                bool\n",
      "tenure_group_11-20                bool\n",
      "tenure_group_21-30                bool\n",
      "tenure_group_31-40                bool\n",
      "tenure_group_41-50                bool\n",
      "tenure_group_51-60                bool\n",
      "tenure_group_61-72                bool\n",
      "mc_group_$21-40                   bool\n",
      "mc_group_$41-60                   bool\n",
      "mc_group_$61-80                   bool\n",
      "mc_group_$81-100                  bool\n",
      "mc_group_$101-120                 bool\n",
      "dtype: object\n"
     ]
    }
   ],
   "source": [
    "print(telco2_df.dtypes)"
   ]
  },
  {
   "cell_type": "markdown",
   "metadata": {},
   "source": [
    "**Training Models**"
   ]
  },
  {
   "cell_type": "markdown",
   "metadata": {},
   "source": [
    "Perform Feature Scaling"
   ]
  },
  {
   "cell_type": "code",
   "execution_count": 28,
   "metadata": {},
   "outputs": [],
   "source": [
    "standardScaler = StandardScaler()\n",
    "col_ft_scaling = ['tenure', 'MonthlyCharges']\n",
    "telco2_df[col_ft_scaling] = standardScaler.fit_transform(telco2_df[col_ft_scaling])"
   ]
  },
  {
   "cell_type": "code",
   "execution_count": 29,
   "metadata": {},
   "outputs": [
    {
     "data": {
      "text/html": [
       "<div>\n",
       "<style scoped>\n",
       "    .dataframe tbody tr th:only-of-type {\n",
       "        vertical-align: middle;\n",
       "    }\n",
       "\n",
       "    .dataframe tbody tr th {\n",
       "        vertical-align: top;\n",
       "    }\n",
       "\n",
       "    .dataframe thead th {\n",
       "        text-align: right;\n",
       "    }\n",
       "</style>\n",
       "<table border=\"1\" class=\"dataframe\">\n",
       "  <thead>\n",
       "    <tr style=\"text-align: right;\">\n",
       "      <th></th>\n",
       "      <th>Dependents</th>\n",
       "      <th>tenure</th>\n",
       "      <th>OnlineSecurity</th>\n",
       "      <th>OnlineBackup</th>\n",
       "      <th>DeviceProtection</th>\n",
       "      <th>TechSupport</th>\n",
       "      <th>PaperlessBilling</th>\n",
       "      <th>MonthlyCharges</th>\n",
       "      <th>Churn</th>\n",
       "      <th>Contract_One year</th>\n",
       "      <th>Contract_Two year</th>\n",
       "      <th>InternetService_Fiber optic</th>\n",
       "      <th>InternetService_No</th>\n",
       "      <th>tenure_group_11-20</th>\n",
       "      <th>tenure_group_21-30</th>\n",
       "      <th>tenure_group_31-40</th>\n",
       "      <th>tenure_group_41-50</th>\n",
       "      <th>tenure_group_51-60</th>\n",
       "      <th>tenure_group_61-72</th>\n",
       "      <th>mc_group_$21-40</th>\n",
       "      <th>mc_group_$41-60</th>\n",
       "      <th>mc_group_$61-80</th>\n",
       "      <th>mc_group_$81-100</th>\n",
       "      <th>mc_group_$101-120</th>\n",
       "    </tr>\n",
       "  </thead>\n",
       "  <tbody>\n",
       "    <tr>\n",
       "      <th>0</th>\n",
       "      <td>1</td>\n",
       "      <td>-0.957937</td>\n",
       "      <td>0</td>\n",
       "      <td>0</td>\n",
       "      <td>1</td>\n",
       "      <td>1</td>\n",
       "      <td>1</td>\n",
       "      <td>0.267033</td>\n",
       "      <td>1</td>\n",
       "      <td>False</td>\n",
       "      <td>False</td>\n",
       "      <td>False</td>\n",
       "      <td>False</td>\n",
       "      <td>False</td>\n",
       "      <td>False</td>\n",
       "      <td>False</td>\n",
       "      <td>False</td>\n",
       "      <td>False</td>\n",
       "      <td>False</td>\n",
       "      <td>False</td>\n",
       "      <td>False</td>\n",
       "      <td>True</td>\n",
       "      <td>False</td>\n",
       "      <td>False</td>\n",
       "    </tr>\n",
       "    <tr>\n",
       "      <th>1</th>\n",
       "      <td>0</td>\n",
       "      <td>-0.753720</td>\n",
       "      <td>0</td>\n",
       "      <td>1</td>\n",
       "      <td>1</td>\n",
       "      <td>0</td>\n",
       "      <td>1</td>\n",
       "      <td>0.592854</td>\n",
       "      <td>0</td>\n",
       "      <td>False</td>\n",
       "      <td>False</td>\n",
       "      <td>True</td>\n",
       "      <td>False</td>\n",
       "      <td>True</td>\n",
       "      <td>False</td>\n",
       "      <td>False</td>\n",
       "      <td>False</td>\n",
       "      <td>False</td>\n",
       "      <td>False</td>\n",
       "      <td>False</td>\n",
       "      <td>False</td>\n",
       "      <td>False</td>\n",
       "      <td>True</td>\n",
       "      <td>False</td>\n",
       "    </tr>\n",
       "    <tr>\n",
       "      <th>2</th>\n",
       "      <td>0</td>\n",
       "      <td>1.288452</td>\n",
       "      <td>1</td>\n",
       "      <td>0</td>\n",
       "      <td>1</td>\n",
       "      <td>1</td>\n",
       "      <td>0</td>\n",
       "      <td>-0.570078</td>\n",
       "      <td>1</td>\n",
       "      <td>False</td>\n",
       "      <td>True</td>\n",
       "      <td>False</td>\n",
       "      <td>False</td>\n",
       "      <td>False</td>\n",
       "      <td>False</td>\n",
       "      <td>False</td>\n",
       "      <td>False</td>\n",
       "      <td>False</td>\n",
       "      <td>True</td>\n",
       "      <td>False</td>\n",
       "      <td>True</td>\n",
       "      <td>False</td>\n",
       "      <td>False</td>\n",
       "      <td>False</td>\n",
       "    </tr>\n",
       "    <tr>\n",
       "      <th>3</th>\n",
       "      <td>0</td>\n",
       "      <td>1.615200</td>\n",
       "      <td>1</td>\n",
       "      <td>1</td>\n",
       "      <td>1</td>\n",
       "      <td>1</td>\n",
       "      <td>0</td>\n",
       "      <td>0.158425</td>\n",
       "      <td>0</td>\n",
       "      <td>False</td>\n",
       "      <td>True</td>\n",
       "      <td>False</td>\n",
       "      <td>False</td>\n",
       "      <td>False</td>\n",
       "      <td>False</td>\n",
       "      <td>False</td>\n",
       "      <td>False</td>\n",
       "      <td>False</td>\n",
       "      <td>True</td>\n",
       "      <td>False</td>\n",
       "      <td>False</td>\n",
       "      <td>True</td>\n",
       "      <td>False</td>\n",
       "      <td>False</td>\n",
       "    </tr>\n",
       "    <tr>\n",
       "      <th>4</th>\n",
       "      <td>0</td>\n",
       "      <td>-1.202998</td>\n",
       "      <td>0</td>\n",
       "      <td>0</td>\n",
       "      <td>0</td>\n",
       "      <td>0</td>\n",
       "      <td>1</td>\n",
       "      <td>-1.380455</td>\n",
       "      <td>0</td>\n",
       "      <td>False</td>\n",
       "      <td>False</td>\n",
       "      <td>False</td>\n",
       "      <td>True</td>\n",
       "      <td>False</td>\n",
       "      <td>False</td>\n",
       "      <td>False</td>\n",
       "      <td>False</td>\n",
       "      <td>False</td>\n",
       "      <td>False</td>\n",
       "      <td>True</td>\n",
       "      <td>False</td>\n",
       "      <td>False</td>\n",
       "      <td>False</td>\n",
       "      <td>False</td>\n",
       "    </tr>\n",
       "  </tbody>\n",
       "</table>\n",
       "</div>"
      ],
      "text/plain": [
       "   Dependents    tenure  OnlineSecurity  OnlineBackup  DeviceProtection  \\\n",
       "0           1 -0.957937               0             0                 1   \n",
       "1           0 -0.753720               0             1                 1   \n",
       "2           0  1.288452               1             0                 1   \n",
       "3           0  1.615200               1             1                 1   \n",
       "4           0 -1.202998               0             0                 0   \n",
       "\n",
       "   TechSupport  PaperlessBilling  MonthlyCharges  Churn  Contract_One year  \\\n",
       "0            1                 1        0.267033      1              False   \n",
       "1            0                 1        0.592854      0              False   \n",
       "2            1                 0       -0.570078      1              False   \n",
       "3            1                 0        0.158425      0              False   \n",
       "4            0                 1       -1.380455      0              False   \n",
       "\n",
       "   Contract_Two year  InternetService_Fiber optic  InternetService_No  \\\n",
       "0              False                        False               False   \n",
       "1              False                         True               False   \n",
       "2               True                        False               False   \n",
       "3               True                        False               False   \n",
       "4              False                        False                True   \n",
       "\n",
       "   tenure_group_11-20  tenure_group_21-30  tenure_group_31-40  \\\n",
       "0               False               False               False   \n",
       "1                True               False               False   \n",
       "2               False               False               False   \n",
       "3               False               False               False   \n",
       "4               False               False               False   \n",
       "\n",
       "   tenure_group_41-50  tenure_group_51-60  tenure_group_61-72  \\\n",
       "0               False               False               False   \n",
       "1               False               False               False   \n",
       "2               False               False                True   \n",
       "3               False               False                True   \n",
       "4               False               False               False   \n",
       "\n",
       "   mc_group_$21-40  mc_group_$41-60  mc_group_$61-80  mc_group_$81-100  \\\n",
       "0            False            False             True             False   \n",
       "1            False            False            False              True   \n",
       "2            False             True            False             False   \n",
       "3            False            False             True             False   \n",
       "4             True            False            False             False   \n",
       "\n",
       "   mc_group_$101-120  \n",
       "0              False  \n",
       "1              False  \n",
       "2              False  \n",
       "3              False  \n",
       "4              False  "
      ]
     },
     "execution_count": 29,
     "metadata": {},
     "output_type": "execute_result"
    }
   ],
   "source": [
    "telco2_df.head()"
   ]
  },
  {
   "cell_type": "markdown",
   "metadata": {},
   "source": [
    "Preparing features and target"
   ]
  },
  {
   "cell_type": "code",
   "execution_count": 30,
   "metadata": {},
   "outputs": [],
   "source": [
    "#Create feature variable X and Target variable y\n",
    "X = telco2_df.drop(columns=['Churn'], axis = 1)\n",
    "y = telco2_df['Churn']"
   ]
  },
  {
   "cell_type": "markdown",
   "metadata": {},
   "source": [
    "Splitting the data into training set"
   ]
  },
  {
   "cell_type": "code",
   "execution_count": 31,
   "metadata": {},
   "outputs": [
    {
     "name": "stdout",
     "output_type": "stream",
     "text": [
      "Training set size: 3937 rows\n",
      "Testing set size: 985 rows\n"
     ]
    }
   ],
   "source": [
    "X_train, X_test, y_train, y_test = train_test_split(\n",
    "    X, \n",
    "    y,\n",
    "    test_size=0.2,\n",
    "    random_state=42\n",
    ")\n",
    "print(f'Training set size: {X_train.shape[0]} rows')\n",
    "print(f'Testing set size: {X_test.shape[0]} rows')"
   ]
  },
  {
   "cell_type": "code",
   "execution_count": 32,
   "metadata": {},
   "outputs": [
    {
     "name": "stdout",
     "output_type": "stream",
     "text": [
      "Class distribution in y_train:\n",
      "Churn\n",
      "0    0.731775\n",
      "1    0.268225\n",
      "Name: proportion, dtype: float64\n",
      "Class distribution in y_test:\n",
      "Churn\n",
      "0    0.736041\n",
      "1    0.263959\n",
      "Name: proportion, dtype: float64\n"
     ]
    }
   ],
   "source": [
    "print('Class distribution in y_train:')\n",
    "print(y_train.value_counts(normalize=True))\n",
    "print('Class distribution in y_test:')\n",
    "print(y_test.value_counts(normalize=True))"
   ]
  },
  {
   "cell_type": "markdown",
   "metadata": {},
   "source": [
    "### **Model Training**"
   ]
  },
  {
   "cell_type": "code",
   "execution_count": 33,
   "metadata": {},
   "outputs": [],
   "source": [
    "#Fit the Logistic Regression Model\n",
    "logmodel = LogisticRegression(random_state=50)\n",
    "logmodel.fit(X_train, y_train)\n",
    "\n",
    "#Predict the value for new, unseen data\n",
    "pred = logmodel.predict(X_test)\n",
    "\n",
    "#Find Accuracy using accurancy score method\n",
    "logmod_accuracy = round(metrics.accuracy_score(y_test, pred) * 100, 2)"
   ]
  },
  {
   "cell_type": "code",
   "execution_count": 34,
   "metadata": {},
   "outputs": [],
   "source": [
    "#Fit the K-Nearest Neighbor Model\n",
    "knnmodel = KNeighborsClassifier(n_neighbors=5, metric='minkowski', p=2)\n",
    "knnmodel.fit(X_train, y_train)\n",
    "\n",
    "#Predict the value for new, unseen data\n",
    "knn_pred = knnmodel.predict(X_test)\n",
    "\n",
    "#Find Accuracy using accuracy score method\n",
    "knn_accuracy = round(metrics.accuracy_score(y_test, knn_pred) * 100, 2)"
   ]
  },
  {
   "cell_type": "code",
   "execution_count": 35,
   "metadata": {},
   "outputs": [],
   "source": [
    "#Fit the Decision Tree Classification Model\n",
    "dtcmodel = DecisionTreeClassifier(criterion = 'gini', random_state = 50)\n",
    "dtcmodel.fit(X_train, y_train)\n",
    "\n",
    "#Predict the value for new, unseen data\n",
    "dtc_pred = dtcmodel.predict(X_test)\n",
    "\n",
    "#Find Accuracy using accuracy score method\n",
    "dtc_accuracy = round(metrics.accuracy_score(y_test, dtc_pred) * 100, 2)"
   ]
  },
  {
   "cell_type": "code",
   "execution_count": 36,
   "metadata": {},
   "outputs": [],
   "source": [
    "#Fit the Random Forest Classification Model\n",
    "rfcmodel = RandomForestClassifier(n_estimators=100,criterion='entropy', random_state = 0)\n",
    "rfcmodel.fit(X_train, y_train)\n",
    "\n",
    "#Predict the value for new, unseen data\n",
    "rfc_pred = rfcmodel.predict(X_test)\n",
    "\n",
    "#Find Accuracy using accuracy score method\n",
    "rfc_accuracy = round(metrics.accuracy_score(y_test, rfc_pred) * 100, 2)"
   ]
  },
  {
   "cell_type": "code",
   "execution_count": 37,
   "metadata": {},
   "outputs": [],
   "source": [
    "#Fit the Gradient Boosting Classifier Model\n",
    "gbcmodel = GradientBoostingClassifier(random_state=50)\n",
    "gbcmodel.fit(X_train, y_train)\n",
    "\n",
    "#Predict the value for new, unseen data\n",
    "gbc_pred = gbcmodel.predict(X_test)\n",
    "\n",
    "#Find Accuracy using accurancy score method\n",
    "gbc_accuracy = round(metrics.accuracy_score(y_test, pred) * 100, 2)"
   ]
  },
  {
   "cell_type": "markdown",
   "metadata": {},
   "source": [
    "#### Model Comparison"
   ]
  },
  {
   "cell_type": "code",
   "execution_count": 38,
   "metadata": {},
   "outputs": [
    {
     "data": {
      "text/html": [
       "<div>\n",
       "<style scoped>\n",
       "    .dataframe tbody tr th:only-of-type {\n",
       "        vertical-align: middle;\n",
       "    }\n",
       "\n",
       "    .dataframe tbody tr th {\n",
       "        vertical-align: top;\n",
       "    }\n",
       "\n",
       "    .dataframe thead th {\n",
       "        text-align: right;\n",
       "    }\n",
       "</style>\n",
       "<table border=\"1\" class=\"dataframe\">\n",
       "  <thead>\n",
       "    <tr style=\"text-align: right;\">\n",
       "      <th></th>\n",
       "      <th>Score</th>\n",
       "      <th>Model</th>\n",
       "    </tr>\n",
       "  </thead>\n",
       "  <tbody>\n",
       "    <tr>\n",
       "      <th>0</th>\n",
       "      <td>79.90</td>\n",
       "      <td>Logistic Regression</td>\n",
       "    </tr>\n",
       "    <tr>\n",
       "      <th>1</th>\n",
       "      <td>79.90</td>\n",
       "      <td>Gradient Boosting</td>\n",
       "    </tr>\n",
       "    <tr>\n",
       "      <th>2</th>\n",
       "      <td>76.65</td>\n",
       "      <td>Random Forest</td>\n",
       "    </tr>\n",
       "    <tr>\n",
       "      <th>3</th>\n",
       "      <td>75.94</td>\n",
       "      <td>K-Nearest Neighbor</td>\n",
       "    </tr>\n",
       "    <tr>\n",
       "      <th>4</th>\n",
       "      <td>72.28</td>\n",
       "      <td>Decision Tree</td>\n",
       "    </tr>\n",
       "  </tbody>\n",
       "</table>\n",
       "</div>"
      ],
      "text/plain": [
       "   Score                Model\n",
       "0  79.90  Logistic Regression\n",
       "1  79.90    Gradient Boosting\n",
       "2  76.65        Random Forest\n",
       "3  75.94   K-Nearest Neighbor\n",
       "4  72.28        Decision Tree"
      ]
     },
     "execution_count": 38,
     "metadata": {},
     "output_type": "execute_result"
    }
   ],
   "source": [
    "model_comparison = pd.DataFrame ({\n",
    "    'Model' : ['Logistic Regression', 'K-Nearest Neighbor', 'Decision Tree', 'Random Forest', 'Gradient Boosting'],\n",
    "    'Score' : [logmod_accuracy, knn_accuracy, dtc_accuracy, rfc_accuracy, gbc_accuracy]\n",
    "})\n",
    "model_comparison_telco = model_comparison.sort_values(by='Score', ascending=False)\n",
    "model_comparison_telco = model_comparison_telco.set_index('Score')\n",
    "model_comparison_telco.reset_index()"
   ]
  },
  {
   "cell_type": "markdown",
   "metadata": {},
   "source": [
    "1. **Top Performing Models** : Logistic Regression and Gradient Boosting share tthe highest accuracy (79.90%). Logistic Regression offers simplicity and interpretability, while Gradient Boosting provides enhanced prediction power\n",
    "2. **Ensemble Strength** : Both Random Forest and Gradient Boosting demonstrate the advantages of ensemble methods in improving predictive performance over standalone Decision Trees\n",
    "3. **Model Selection** : The choice of the best model depends on the balance between performance and interpretability, For actionable insights, Logistic Regression is preffered, while Gradient Boosting is ideal for maximizing prediction accuracy"
   ]
  },
  {
   "cell_type": "code",
   "execution_count": 39,
   "metadata": {},
   "outputs": [
    {
     "data": {
      "text/plain": [
       "array([[650,  75],\n",
       "       [123, 137]])"
      ]
     },
     "execution_count": 39,
     "metadata": {},
     "output_type": "execute_result"
    }
   ],
   "source": [
    "#Generate confusion matrix for logistics regression model as it  has max accuracy\n",
    "confmat_logmodel = confusion_matrix(y_test, pred)\n",
    "confmat_logmodel"
   ]
  },
  {
   "cell_type": "markdown",
   "metadata": {},
   "source": [
    "#### *Test Oversampling*"
   ]
  },
  {
   "cell_type": "code",
   "execution_count": 40,
   "metadata": {},
   "outputs": [
    {
     "name": "stdout",
     "output_type": "stream",
     "text": [
      "Classification Report with Class Weighting: \n",
      "              precision    recall  f1-score   support\n",
      "\n",
      "           0       0.91      0.72      0.80       725\n",
      "           1       0.51      0.81      0.62       260\n",
      "\n",
      "    accuracy                           0.74       985\n",
      "   macro avg       0.71      0.76      0.71       985\n",
      "weighted avg       0.81      0.74      0.76       985\n",
      "\n",
      "\n",
      "AUC-ROC Score: 84.1\n",
      "\n",
      "Confusion Matrix:\n",
      " [[520 205]\n",
      " [ 50 210]]\n"
     ]
    }
   ],
   "source": [
    "#Initialize Logistic Regression with Class Weighting\n",
    "logmodel_weighting = LogisticRegression(random_state=50, class_weight='balanced')\n",
    "logmodel_weighting.fit(X_train, y_train)\n",
    "\n",
    "#Predict and evaluate\n",
    "pred_weighting = logmodel_weighting.predict(X_test)\n",
    "print('Classification Report with Class Weighting: ')\n",
    "print(classification_report(y_test, pred_weighting))\n",
    "\n",
    "#AUC-ROC Score\n",
    "pred_weighting_prob = logmodel_weighting.predict_proba(X_test) [:, 1]\n",
    "print('\\nAUC-ROC Score:', round(roc_auc_score(y_test, pred_weighting_prob) * 100,2))\n",
    "\n",
    "#Confusion Matrix\n",
    "confmat_weighting = confusion_matrix(y_test, pred_weighting)\n",
    "print('\\nConfusion Matrix:\\n', confmat_weighting)"
   ]
  },
  {
   "cell_type": "markdown",
   "metadata": {},
   "source": [
    "Explore Stacking Ensemble"
   ]
  },
  {
   "cell_type": "code",
   "execution_count": 41,
   "metadata": {},
   "outputs": [
    {
     "name": "stdout",
     "output_type": "stream",
     "text": [
      "Classification Report for Stacking ensemble:\n",
      "\n",
      "              precision    recall  f1-score   support\n",
      "\n",
      "           0       0.83      0.90      0.87       725\n",
      "           1       0.65      0.50      0.57       260\n",
      "\n",
      "    accuracy                           0.80       985\n",
      "   macro avg       0.74      0.70      0.72       985\n",
      "weighted avg       0.79      0.80      0.79       985\n",
      "\n",
      "\n",
      "AUC-ROC Score for Stacking ensemble: 84.32\n",
      "\n",
      "Confusion Matrix for Stacking ensemble:\n",
      " [[655  70]\n",
      " [130 130]]\n"
     ]
    }
   ],
   "source": [
    "preprocessor = ColumnTransformer(\n",
    "    transformers=[\n",
    "        ('num', StandardScaler(), col_ft_scaling)\n",
    "    ],\n",
    "    remainder='passthrough'\n",
    ")\n",
    "base_models = [\n",
    "    ('logistic', LogisticRegression(max_iter=1000, random_state=50)),\n",
    "    ('random_forest', RandomForestClassifier(n_estimators=100, random_state=50)),\n",
    "    ('gradient_boosting', GradientBoostingClassifier(random_state=50))\n",
    "]\n",
    "\n",
    "meta_model =LogisticRegression()\n",
    "stacking_model = StackingClassifier(estimators=base_models, final_estimator=meta_model)\n",
    "stacking_model.fit(X_train, y_train)\n",
    "\n",
    "#Create Pipeline\n",
    "pipeline = Pipeline(steps=[\n",
    "    ('preprocessor', preprocessor),\n",
    "    ('stacking', stacking_model)\n",
    "])\n",
    "pipeline.fit(X_train, y_train)\n",
    "\n",
    "#Predict and evaluation\n",
    "y_pred_stack = pipeline.predict(X_test)\n",
    "y_pred_stack_prob = pipeline.predict_proba(X_test) [:, 1]\n",
    "\n",
    "#Evaluation metrics\n",
    "print('Classification Report for Stacking ensemble:\\n')\n",
    "print(classification_report(y_test, y_pred_stack))\n",
    "print('\\nAUC-ROC Score for Stacking ensemble:', round(roc_auc_score(y_test, y_pred_stack_prob)*100,2))\n",
    "confmat_stack = confusion_matrix(y_test, y_pred_stack)\n",
    "print('\\nConfusion Matrix for Stacking ensemble:\\n', confmat_stack)"
   ]
  },
  {
   "cell_type": "markdown",
   "metadata": {},
   "source": [
    "Explore Voting Classifier"
   ]
  },
  {
   "cell_type": "code",
   "execution_count": 42,
   "metadata": {},
   "outputs": [
    {
     "name": "stdout",
     "output_type": "stream",
     "text": [
      "Classification Report for Voting Classifier:n\n",
      "              precision    recall  f1-score   support\n",
      "\n",
      "           0       0.87      0.84      0.85       725\n",
      "           1       0.58      0.64      0.61       260\n",
      "\n",
      "    accuracy                           0.78       985\n",
      "   macro avg       0.73      0.74      0.73       985\n",
      "weighted avg       0.79      0.78      0.79       985\n",
      "\n",
      "\n",
      "AUC-ROC Score for Voting Classifier: 84.2\n",
      "\n",
      "Confusion Matrix for Voting Classifier:\n",
      " [[606 119]\n",
      " [ 93 167]]\n"
     ]
    }
   ],
   "source": [
    "base_vote_models = [\n",
    "    ('logistic', LogisticRegression(class_weight='balanced', random_state=50)),\n",
    "    ('random_forest', RandomForestClassifier(n_estimators=200, max_depth=10, random_state=50)),\n",
    "    ('stacking', StackingClassifier(estimators=[\n",
    "        ('logistic', LogisticRegression(class_weight='balanced', random_state=50)),\n",
    "        ('random_forest', RandomForestClassifier(n_estimators=200, max_depth=10, random_state=50)),\n",
    "        ('gradient_boosting', GradientBoostingClassifier(random_state=50))\n",
    "    ], final_estimator=LogisticRegression(random_state=50), cv=3))\n",
    "]\n",
    "\n",
    "#Create voting classifier with soft voting (using probability)\n",
    "voting_model = VotingClassifier(estimators=base_vote_models, voting='soft')\n",
    "voting_model.fit(X_train, y_train)\n",
    "\n",
    "#Predict and evaluation\n",
    "y_pred_vote = voting_model.predict(X_test)\n",
    "y_pred_vote_prob = voting_model.predict_proba(X_test) [:, 1]\n",
    "\n",
    "#Evaluation metrics\n",
    "print('Classification Report for Voting Classifier:n')\n",
    "print(classification_report(y_test, y_pred_vote))\n",
    "print('\\nAUC-ROC Score for Voting Classifier:', round(roc_auc_score(y_test, y_pred_vote_prob)*100,2))\n",
    "confmat_vote = confusion_matrix(y_test, y_pred_vote)\n",
    "print('\\nConfusion Matrix for Voting Classifier:\\n', confmat_vote)"
   ]
  },
  {
   "cell_type": "markdown",
   "metadata": {},
   "source": [
    "Model comparison based on their performance metrics"
   ]
  },
  {
   "cell_type": "code",
   "execution_count": 43,
   "metadata": {},
   "outputs": [
    {
     "data": {
      "text/html": [
       "<div>\n",
       "<style scoped>\n",
       "    .dataframe tbody tr th:only-of-type {\n",
       "        vertical-align: middle;\n",
       "    }\n",
       "\n",
       "    .dataframe tbody tr th {\n",
       "        vertical-align: top;\n",
       "    }\n",
       "\n",
       "    .dataframe thead th {\n",
       "        text-align: right;\n",
       "    }\n",
       "</style>\n",
       "<table border=\"1\" class=\"dataframe\">\n",
       "  <thead>\n",
       "    <tr style=\"text-align: right;\">\n",
       "      <th></th>\n",
       "      <th>Model</th>\n",
       "      <th>Accuracy (%)</th>\n",
       "      <th>Precision (Churn = 1)</th>\n",
       "      <th>Recall (Churn = 1)</th>\n",
       "      <th>F1-Score (Churn = 1)</th>\n",
       "      <th>AUC-ROC (%)</th>\n",
       "    </tr>\n",
       "  </thead>\n",
       "  <tbody>\n",
       "    <tr>\n",
       "      <th>0</th>\n",
       "      <td>Stacking Ensemble</td>\n",
       "      <td>80.0</td>\n",
       "      <td>65.0</td>\n",
       "      <td>50.0</td>\n",
       "      <td>57.0</td>\n",
       "      <td>84.32</td>\n",
       "    </tr>\n",
       "    <tr>\n",
       "      <th>1</th>\n",
       "      <td>Voting Classifier</td>\n",
       "      <td>78.0</td>\n",
       "      <td>58.0</td>\n",
       "      <td>64.0</td>\n",
       "      <td>61.0</td>\n",
       "      <td>84.20</td>\n",
       "    </tr>\n",
       "    <tr>\n",
       "      <th>2</th>\n",
       "      <td>Logistic Regression (Class Weighting)</td>\n",
       "      <td>74.0</td>\n",
       "      <td>51.0</td>\n",
       "      <td>81.0</td>\n",
       "      <td>62.0</td>\n",
       "      <td>84.10</td>\n",
       "    </tr>\n",
       "    <tr>\n",
       "      <th>3</th>\n",
       "      <td>Logistic Regression (SMOTE)</td>\n",
       "      <td>76.0</td>\n",
       "      <td>53.0</td>\n",
       "      <td>79.0</td>\n",
       "      <td>63.0</td>\n",
       "      <td>84.05</td>\n",
       "    </tr>\n",
       "  </tbody>\n",
       "</table>\n",
       "</div>"
      ],
      "text/plain": [
       "                                   Model  Accuracy (%)  Precision (Churn = 1)  \\\n",
       "0                      Stacking Ensemble          80.0                   65.0   \n",
       "1                      Voting Classifier          78.0                   58.0   \n",
       "2  Logistic Regression (Class Weighting)          74.0                   51.0   \n",
       "3            Logistic Regression (SMOTE)          76.0                   53.0   \n",
       "\n",
       "   Recall (Churn = 1)  F1-Score (Churn = 1)  AUC-ROC (%)  \n",
       "0                50.0                  57.0        84.32  \n",
       "1                64.0                  61.0        84.20  \n",
       "2                81.0                  62.0        84.10  \n",
       "3                79.0                  63.0        84.05  "
      ]
     },
     "execution_count": 43,
     "metadata": {},
     "output_type": "execute_result"
    }
   ],
   "source": [
    "logmod_accuracy = 74.0\n",
    "smote_accuracy = 76.0\n",
    "stacking_accuracy = 80.0\n",
    "voting_accuracy = 78.0\n",
    "\n",
    "logmod_recall = 81.0\n",
    "smote_recall = 79.0\n",
    "stacking_recall = 50.0\n",
    "voting_recall = 64.0\n",
    "\n",
    "models_comparison = pd.DataFrame ({\n",
    "    'Model' : ['Logistic Regression (Class Weighting)', 'Logistic Regression (SMOTE)', 'Stacking Ensemble', 'Voting Classifier'],\n",
    "    'Accuracy (%)' : [logmod_accuracy, smote_accuracy, stacking_accuracy, voting_accuracy],\n",
    "    'Precision (Churn = 1)' : [51.0, 53.0, 65.0, 58.0],\n",
    "    'Recall (Churn = 1)' : [logmod_recall, smote_recall, stacking_recall, voting_recall],\n",
    "    'F1-Score (Churn = 1)' : [62.0, 63.0, 57.0, 61.0],\n",
    "    'AUC-ROC (%)' : [84.1, 84.05, 84.32, 84.2]\n",
    "})\n",
    "models_comparison_telco = models_comparison.sort_values(by='AUC-ROC (%)', ascending=False)\n",
    "models_comparison_telco = models_comparison_telco.set_index('Model')\n",
    "models_comparison_telco.reset_index()"
   ]
  },
  {
   "cell_type": "markdown",
   "metadata": {},
   "source": [
    "#### **Model Benchmarking : Test Data**"
   ]
  },
  {
   "cell_type": "code",
   "execution_count": 44,
   "metadata": {},
   "outputs": [],
   "source": [
    "models_comparison_telco = models_comparison.sort_values(by='AUC-ROC (%)', ascending=False)\n",
    "models_comparison_telco.reset_index(drop=True)\n",
    "best_accuracy = models_comparison_telco.loc[models_comparison_telco['Accuracy (%)'].idxmax()]\n",
    "best_precision = models_comparison_telco.loc[models_comparison_telco['Precision (Churn = 1)'].idxmax()]\n",
    "best_recall = models_comparison_telco.loc[models_comparison_telco['Recall (Churn = 1)'].idxmax()]\n",
    "best_F1 = models_comparison_telco.loc[models_comparison_telco['F1-Score (Churn = 1)'].idxmax()]\n",
    "best_aucroc = models_comparison_telco.loc[models_comparison_telco['AUC-ROC (%)'].idxmax()]"
   ]
  },
  {
   "cell_type": "code",
   "execution_count": 45,
   "metadata": {},
   "outputs": [
    {
     "name": "stdout",
     "output_type": "stream",
     "text": [
      "Benchmarking Models Based on Metrics:\n",
      "Best Model for Accuracy: Stacking Ensemble (80.0%)\n",
      "Best Model for Precision (Churn = 1): Stacking Ensemble (65.0%)\n",
      "Best Model for Recall (Churn = 1): Logistic Regression (Class Weighting) (81.0%)\n",
      "Best Model for F1-Score (Churn = 1): Logistic Regression (SMOTE) (63.0%)\n",
      "Best Model for AUC-ROC: Stacking Ensemble (84.32%)\n"
     ]
    }
   ],
   "source": [
    "print('Benchmarking Models Based on Metrics:')\n",
    "print(f\"Best Model for Accuracy: {best_accuracy['Model']} ({best_accuracy['Accuracy (%)']}%)\")\n",
    "print(f\"Best Model for Precision (Churn = 1): {best_precision['Model']} ({best_precision['Precision (Churn = 1)']}%)\")\n",
    "print(f\"Best Model for Recall (Churn = 1): {best_recall['Model']} ({best_recall['Recall (Churn = 1)']}%)\")\n",
    "print(f\"Best Model for F1-Score (Churn = 1): {best_F1['Model']} ({best_F1['F1-Score (Churn = 1)']}%)\")\n",
    "print(f\"Best Model for AUC-ROC: {best_aucroc['Model']} ({best_aucroc['AUC-ROC (%)']}%)\")"
   ]
  },
  {
   "cell_type": "markdown",
   "metadata": {},
   "source": [
    "1. **Overall Best Model** : The Stacking Ensemble emerges as the most balanced and high performing model across most metrics, particularly excelling in accuracym precision and AUC-ROC\n",
    "2. **Specialized Models** :\n",
    "- Logistic Regression with class weighting is ideal for maxiizing recall, ensuring no churned customers are missed\n",
    "- Logistic Regression with SMOTE offers the best balance of precision and recall for scenarios requiring an even trade off\n",
    "3. **Final Recommendation** : While Stacking Ensemble is the best overall model for predicting churn, specific use cases may benefit from specialized models like Logistic Regression for higher recall or balanced F1-score\n",
    "\n",
    "By incorporating these insights into the project, the benchmarking reults provide clear guidance on model performance and their optimal application in addressing customer churn"
   ]
  },
  {
   "cell_type": "markdown",
   "metadata": {},
   "source": [
    "### **Hyperparameter Tuning**"
   ]
  },
  {
   "cell_type": "code",
   "execution_count": 46,
   "metadata": {},
   "outputs": [],
   "source": [
    "base_model = [\n",
    "    ('rf', RandomForestClassifier(random_state=50)),\n",
    "    ('gb', GradientBoostingClassifier(random_state=50)),\n",
    "    ('lr', LogisticRegression(random_state=50))\n",
    "]\n",
    "meta_models = LogisticRegression(random_state=50)\n",
    "stacking_clf = StackingClassifier(estimators=base_models, final_estimator=meta_models)"
   ]
  },
  {
   "cell_type": "code",
   "execution_count": 47,
   "metadata": {},
   "outputs": [
    {
     "name": "stdout",
     "output_type": "stream",
     "text": [
      "Fitting 3 folds for each of 48 candidates, totalling 144 fits\n",
      "[CV] END stacking__cv=3, stacking__final_estimator__C=0.01, stacking__final_estimator__solver=liblinear, stacking__stack_method=predict_proba; total time=  19.2s\n",
      "[CV] END stacking__cv=3, stacking__final_estimator__C=0.01, stacking__final_estimator__solver=liblinear, stacking__stack_method=auto; total time=  19.3s\n",
      "[CV] END stacking__cv=3, stacking__final_estimator__C=0.01, stacking__final_estimator__solver=liblinear, stacking__stack_method=auto; total time=  19.4s\n",
      "[CV] END stacking__cv=3, stacking__final_estimator__C=0.01, stacking__final_estimator__solver=liblinear, stacking__stack_method=auto; total time=  19.3s\n",
      "[CV] END stacking__cv=3, stacking__final_estimator__C=0.01, stacking__final_estimator__solver=liblinear, stacking__stack_method=decision_function; total time=   5.5s\n",
      "[CV] END stacking__cv=3, stacking__final_estimator__C=0.01, stacking__final_estimator__solver=liblinear, stacking__stack_method=decision_function; total time=   5.6s\n",
      "[CV] END stacking__cv=3, stacking__final_estimator__C=0.01, stacking__final_estimator__solver=liblinear, stacking__stack_method=decision_function; total time=   5.2s\n",
      "[CV] END stacking__cv=3, stacking__final_estimator__C=0.01, stacking__final_estimator__solver=liblinear, stacking__stack_method=predict_proba; total time=  20.5s\n",
      "[CV] END stacking__cv=3, stacking__final_estimator__C=0.01, stacking__final_estimator__solver=liblinear, stacking__stack_method=predict_proba; total time=  20.5s\n",
      "[CV] END stacking__cv=3, stacking__final_estimator__C=0.01, stacking__final_estimator__solver=lbfgs, stacking__stack_method=auto; total time=  21.0s\n",
      "[CV] END stacking__cv=3, stacking__final_estimator__C=0.01, stacking__final_estimator__solver=lbfgs, stacking__stack_method=auto; total time=  23.1s\n",
      "[CV] END stacking__cv=3, stacking__final_estimator__C=0.01, stacking__final_estimator__solver=lbfgs, stacking__stack_method=predict_proba; total time=  25.5s\n",
      "[CV] END stacking__cv=3, stacking__final_estimator__C=0.01, stacking__final_estimator__solver=lbfgs, stacking__stack_method=auto; total time=  25.7s\n",
      "[CV] END stacking__cv=3, stacking__final_estimator__C=0.01, stacking__final_estimator__solver=lbfgs, stacking__stack_method=decision_function; total time=   4.6s\n",
      "[CV] END stacking__cv=3, stacking__final_estimator__C=0.01, stacking__final_estimator__solver=lbfgs, stacking__stack_method=decision_function; total time=   4.8s\n",
      "[CV] END stacking__cv=3, stacking__final_estimator__C=0.01, stacking__final_estimator__solver=lbfgs, stacking__stack_method=predict_proba; total time=  24.6s\n",
      "[CV] END stacking__cv=3, stacking__final_estimator__C=0.01, stacking__final_estimator__solver=lbfgs, stacking__stack_method=decision_function; total time=   6.6s\n",
      "[CV] END stacking__cv=3, stacking__final_estimator__C=0.01, stacking__final_estimator__solver=lbfgs, stacking__stack_method=predict_proba; total time=  23.3s\n",
      "[CV] END stacking__cv=3, stacking__final_estimator__C=0.1, stacking__final_estimator__solver=liblinear, stacking__stack_method=auto; total time=  21.9s\n",
      "[CV] END stacking__cv=3, stacking__final_estimator__C=0.1, stacking__final_estimator__solver=liblinear, stacking__stack_method=auto; total time=  22.2s\n",
      "[CV] END stacking__cv=3, stacking__final_estimator__C=0.1, stacking__final_estimator__solver=liblinear, stacking__stack_method=auto; total time=  20.4s\n",
      "[CV] END stacking__cv=3, stacking__final_estimator__C=0.1, stacking__final_estimator__solver=liblinear, stacking__stack_method=predict_proba; total time=  20.3s\n",
      "[CV] END stacking__cv=3, stacking__final_estimator__C=0.1, stacking__final_estimator__solver=liblinear, stacking__stack_method=decision_function; total time=   5.7s\n",
      "[CV] END stacking__cv=3, stacking__final_estimator__C=0.1, stacking__final_estimator__solver=liblinear, stacking__stack_method=decision_function; total time=   5.7s\n",
      "[CV] END stacking__cv=3, stacking__final_estimator__C=0.1, stacking__final_estimator__solver=liblinear, stacking__stack_method=decision_function; total time=   6.0s\n",
      "[CV] END stacking__cv=3, stacking__final_estimator__C=0.1, stacking__final_estimator__solver=liblinear, stacking__stack_method=predict_proba; total time=  20.9s\n",
      "[CV] END stacking__cv=3, stacking__final_estimator__C=0.1, stacking__final_estimator__solver=liblinear, stacking__stack_method=predict_proba; total time=  21.7s\n",
      "[CV] END stacking__cv=3, stacking__final_estimator__C=0.1, stacking__final_estimator__solver=lbfgs, stacking__stack_method=auto; total time=  22.9s\n",
      "[CV] END stacking__cv=3, stacking__final_estimator__C=0.1, stacking__final_estimator__solver=lbfgs, stacking__stack_method=auto; total time=  23.5s\n",
      "[CV] END stacking__cv=3, stacking__final_estimator__C=0.1, stacking__final_estimator__solver=lbfgs, stacking__stack_method=auto; total time=  23.7s\n",
      "[CV] END stacking__cv=3, stacking__final_estimator__C=0.1, stacking__final_estimator__solver=lbfgs, stacking__stack_method=predict_proba; total time=  22.7s\n",
      "[CV] END stacking__cv=3, stacking__final_estimator__C=0.1, stacking__final_estimator__solver=lbfgs, stacking__stack_method=decision_function; total time=   8.9s\n",
      "[CV] END stacking__cv=3, stacking__final_estimator__C=0.1, stacking__final_estimator__solver=lbfgs, stacking__stack_method=decision_function; total time=  10.1s\n",
      "[CV] END stacking__cv=3, stacking__final_estimator__C=0.1, stacking__final_estimator__solver=lbfgs, stacking__stack_method=predict_proba; total time=  29.7s\n",
      "[CV] END stacking__cv=3, stacking__final_estimator__C=0.1, stacking__final_estimator__solver=lbfgs, stacking__stack_method=decision_function; total time=  10.3s\n",
      "[CV] END stacking__cv=3, stacking__final_estimator__C=0.1, stacking__final_estimator__solver=lbfgs, stacking__stack_method=predict_proba; total time=  29.2s\n",
      "[CV] END stacking__cv=3, stacking__final_estimator__C=1, stacking__final_estimator__solver=liblinear, stacking__stack_method=auto; total time=  31.1s\n",
      "[CV] END stacking__cv=3, stacking__final_estimator__C=1, stacking__final_estimator__solver=liblinear, stacking__stack_method=auto; total time=  27.6s\n",
      "[CV] END stacking__cv=3, stacking__final_estimator__C=1, stacking__final_estimator__solver=liblinear, stacking__stack_method=auto; total time=  27.8s\n",
      "[CV] END stacking__cv=3, stacking__final_estimator__C=1, stacking__final_estimator__solver=liblinear, stacking__stack_method=predict_proba; total time=  28.7s\n",
      "[CV] END stacking__cv=3, stacking__final_estimator__C=1, stacking__final_estimator__solver=liblinear, stacking__stack_method=decision_function; total time=   6.6s\n",
      "[CV] END stacking__cv=3, stacking__final_estimator__C=1, stacking__final_estimator__solver=liblinear, stacking__stack_method=decision_function; total time=   6.7s\n",
      "[CV] END stacking__cv=3, stacking__final_estimator__C=1, stacking__final_estimator__solver=liblinear, stacking__stack_method=decision_function; total time=   6.8s\n",
      "[CV] END stacking__cv=3, stacking__final_estimator__C=1, stacking__final_estimator__solver=liblinear, stacking__stack_method=predict_proba; total time=  23.9s\n",
      "[CV] END stacking__cv=3, stacking__final_estimator__C=1, stacking__final_estimator__solver=liblinear, stacking__stack_method=predict_proba; total time=  24.8s\n",
      "[CV] END stacking__cv=3, stacking__final_estimator__C=1, stacking__final_estimator__solver=lbfgs, stacking__stack_method=auto; total time=  25.9s[CV] END stacking__cv=3, stacking__final_estimator__C=1, stacking__final_estimator__solver=lbfgs, stacking__stack_method=auto; total time=  26.0s\n",
      "\n",
      "[CV] END stacking__cv=3, stacking__final_estimator__C=1, stacking__final_estimator__solver=lbfgs, stacking__stack_method=auto; total time=  25.0s\n",
      "[CV] END stacking__cv=3, stacking__final_estimator__C=1, stacking__final_estimator__solver=lbfgs, stacking__stack_method=predict_proba; total time=  23.8s\n",
      "[CV] END stacking__cv=3, stacking__final_estimator__C=1, stacking__final_estimator__solver=lbfgs, stacking__stack_method=decision_function; total time=   7.6s\n",
      "[CV] END stacking__cv=3, stacking__final_estimator__C=1, stacking__final_estimator__solver=lbfgs, stacking__stack_method=decision_function; total time=  12.0s\n",
      "[CV] END stacking__cv=3, stacking__final_estimator__C=1, stacking__final_estimator__solver=lbfgs, stacking__stack_method=decision_function; total time=  11.9s\n",
      "[CV] END stacking__cv=3, stacking__final_estimator__C=1, stacking__final_estimator__solver=lbfgs, stacking__stack_method=predict_proba; total time=  27.8s\n",
      "[CV] END stacking__cv=3, stacking__final_estimator__C=1, stacking__final_estimator__solver=lbfgs, stacking__stack_method=predict_proba; total time=  27.9s\n",
      "[CV] END stacking__cv=3, stacking__final_estimator__C=10, stacking__final_estimator__solver=liblinear, stacking__stack_method=auto; total time=  19.6s\n",
      "[CV] END stacking__cv=3, stacking__final_estimator__C=10, stacking__final_estimator__solver=liblinear, stacking__stack_method=auto; total time=  18.1s\n",
      "[CV] END stacking__cv=3, stacking__final_estimator__C=10, stacking__final_estimator__solver=liblinear, stacking__stack_method=auto; total time=  18.3s\n",
      "[CV] END stacking__cv=3, stacking__final_estimator__C=10, stacking__final_estimator__solver=liblinear, stacking__stack_method=predict_proba; total time=  18.2s\n",
      "[CV] END stacking__cv=3, stacking__final_estimator__C=10, stacking__final_estimator__solver=liblinear, stacking__stack_method=decision_function; total time=   5.9s\n",
      "[CV] END stacking__cv=3, stacking__final_estimator__C=10, stacking__final_estimator__solver=liblinear, stacking__stack_method=decision_function; total time=   5.9s\n",
      "[CV] END stacking__cv=3, stacking__final_estimator__C=10, stacking__final_estimator__solver=liblinear, stacking__stack_method=decision_function; total time=   4.8s\n",
      "[CV] END stacking__cv=3, stacking__final_estimator__C=10, stacking__final_estimator__solver=liblinear, stacking__stack_method=predict_proba; total time=  19.9s\n",
      "[CV] END stacking__cv=3, stacking__final_estimator__C=10, stacking__final_estimator__solver=liblinear, stacking__stack_method=predict_proba; total time=  22.2s\n",
      "[CV] END stacking__cv=3, stacking__final_estimator__C=10, stacking__final_estimator__solver=lbfgs, stacking__stack_method=auto; total time=  29.8s\n",
      "[CV] END stacking__cv=3, stacking__final_estimator__C=10, stacking__final_estimator__solver=lbfgs, stacking__stack_method=auto; total time=  31.6s\n",
      "[CV] END stacking__cv=3, stacking__final_estimator__C=10, stacking__final_estimator__solver=lbfgs, stacking__stack_method=auto; total time=  31.4s\n",
      "[CV] END stacking__cv=3, stacking__final_estimator__C=10, stacking__final_estimator__solver=lbfgs, stacking__stack_method=predict_proba; total time=  29.3s\n",
      "[CV] END stacking__cv=3, stacking__final_estimator__C=10, stacking__final_estimator__solver=lbfgs, stacking__stack_method=decision_function; total time=   6.0s\n",
      "[CV] END stacking__cv=3, stacking__final_estimator__C=10, stacking__final_estimator__solver=lbfgs, stacking__stack_method=decision_function; total time=   6.3s\n",
      "[CV] END stacking__cv=3, stacking__final_estimator__C=10, stacking__final_estimator__solver=lbfgs, stacking__stack_method=decision_function; total time=   5.8s\n",
      "[CV] END stacking__cv=3, stacking__final_estimator__C=10, stacking__final_estimator__solver=lbfgs, stacking__stack_method=predict_proba; total time=  22.5s\n",
      "[CV] END stacking__cv=3, stacking__final_estimator__C=10, stacking__final_estimator__solver=lbfgs, stacking__stack_method=predict_proba; total time=  22.0s\n",
      "[CV] END stacking__cv=5, stacking__final_estimator__C=0.01, stacking__final_estimator__solver=liblinear, stacking__stack_method=auto; total time=  33.0s\n",
      "[CV] END stacking__cv=5, stacking__final_estimator__C=0.01, stacking__final_estimator__solver=liblinear, stacking__stack_method=auto; total time=  33.1s\n",
      "[CV] END stacking__cv=5, stacking__final_estimator__C=0.01, stacking__final_estimator__solver=liblinear, stacking__stack_method=auto; total time=  34.3s\n",
      "[CV] END stacking__cv=5, stacking__final_estimator__C=0.01, stacking__final_estimator__solver=liblinear, stacking__stack_method=predict_proba; total time=  35.2s\n",
      "[CV] END stacking__cv=5, stacking__final_estimator__C=0.01, stacking__final_estimator__solver=liblinear, stacking__stack_method=decision_function; total time=   7.1s\n",
      "[CV] END stacking__cv=5, stacking__final_estimator__C=0.01, stacking__final_estimator__solver=liblinear, stacking__stack_method=decision_function; total time=   8.0s\n",
      "[CV] END stacking__cv=5, stacking__final_estimator__C=0.01, stacking__final_estimator__solver=liblinear, stacking__stack_method=decision_function; total time=   8.3s\n",
      "[CV] END stacking__cv=5, stacking__final_estimator__C=0.01, stacking__final_estimator__solver=liblinear, stacking__stack_method=predict_proba; total time=  43.9s\n",
      "[CV] END stacking__cv=5, stacking__final_estimator__C=0.01, stacking__final_estimator__solver=liblinear, stacking__stack_method=predict_proba; total time=  44.4s\n",
      "[CV] END stacking__cv=5, stacking__final_estimator__C=0.01, stacking__final_estimator__solver=lbfgs, stacking__stack_method=auto; total time=  39.0s\n",
      "[CV] END stacking__cv=5, stacking__final_estimator__C=0.01, stacking__final_estimator__solver=lbfgs, stacking__stack_method=auto; total time=  38.6s\n",
      "[CV] END stacking__cv=5, stacking__final_estimator__C=0.01, stacking__final_estimator__solver=lbfgs, stacking__stack_method=auto; total time=  33.9s\n",
      "[CV] END stacking__cv=5, stacking__final_estimator__C=0.01, stacking__final_estimator__solver=lbfgs, stacking__stack_method=predict_proba; total time=  32.4s\n",
      "[CV] END stacking__cv=5, stacking__final_estimator__C=0.01, stacking__final_estimator__solver=lbfgs, stacking__stack_method=decision_function; total time=   9.1s\n",
      "[CV] END stacking__cv=5, stacking__final_estimator__C=0.01, stacking__final_estimator__solver=lbfgs, stacking__stack_method=decision_function; total time=  10.0s\n",
      "[CV] END stacking__cv=5, stacking__final_estimator__C=0.01, stacking__final_estimator__solver=lbfgs, stacking__stack_method=decision_function; total time=  10.0s\n",
      "[CV] END stacking__cv=5, stacking__final_estimator__C=0.01, stacking__final_estimator__solver=lbfgs, stacking__stack_method=predict_proba; total time=  43.6s\n",
      "[CV] END stacking__cv=5, stacking__final_estimator__C=0.01, stacking__final_estimator__solver=lbfgs, stacking__stack_method=predict_proba; total time=  44.8s\n",
      "[CV] END stacking__cv=5, stacking__final_estimator__C=0.1, stacking__final_estimator__solver=liblinear, stacking__stack_method=auto; total time=  47.9s\n",
      "[CV] END stacking__cv=5, stacking__final_estimator__C=0.1, stacking__final_estimator__solver=liblinear, stacking__stack_method=auto; total time=  46.8s\n",
      "[CV] END stacking__cv=5, stacking__final_estimator__C=0.1, stacking__final_estimator__solver=liblinear, stacking__stack_method=auto; total time=  43.5s\n",
      "[CV] END stacking__cv=5, stacking__final_estimator__C=0.1, stacking__final_estimator__solver=liblinear, stacking__stack_method=predict_proba; total time=  42.5s\n",
      "[CV] END stacking__cv=5, stacking__final_estimator__C=0.1, stacking__final_estimator__solver=liblinear, stacking__stack_method=decision_function; total time=   9.0s\n",
      "[CV] END stacking__cv=5, stacking__final_estimator__C=0.1, stacking__final_estimator__solver=liblinear, stacking__stack_method=decision_function; total time=  10.1s\n",
      "[CV] END stacking__cv=5, stacking__final_estimator__C=0.1, stacking__final_estimator__solver=liblinear, stacking__stack_method=decision_function; total time=  17.8s\n",
      "[CV] END stacking__cv=5, stacking__final_estimator__C=0.1, stacking__final_estimator__solver=liblinear, stacking__stack_method=predict_proba; total time=  53.8s\n",
      "[CV] END stacking__cv=5, stacking__final_estimator__C=0.1, stacking__final_estimator__solver=liblinear, stacking__stack_method=predict_proba; total time=  54.2s\n",
      "[CV] END stacking__cv=5, stacking__final_estimator__C=0.1, stacking__final_estimator__solver=lbfgs, stacking__stack_method=auto; total time=  48.4s\n",
      "[CV] END stacking__cv=5, stacking__final_estimator__C=0.1, stacking__final_estimator__solver=lbfgs, stacking__stack_method=auto; total time=  34.5s\n",
      "[CV] END stacking__cv=5, stacking__final_estimator__C=0.1, stacking__final_estimator__solver=lbfgs, stacking__stack_method=auto; total time=  21.4s\n",
      "[CV] END stacking__cv=5, stacking__final_estimator__C=0.1, stacking__final_estimator__solver=lbfgs, stacking__stack_method=predict_proba; total time=  17.5s\n",
      "[CV] END stacking__cv=5, stacking__final_estimator__C=0.1, stacking__final_estimator__solver=lbfgs, stacking__stack_method=decision_function; total time=   2.7s\n",
      "[CV] END stacking__cv=5, stacking__final_estimator__C=0.1, stacking__final_estimator__solver=lbfgs, stacking__stack_method=decision_function; total time=   2.8s\n",
      "[CV] END stacking__cv=5, stacking__final_estimator__C=0.1, stacking__final_estimator__solver=lbfgs, stacking__stack_method=decision_function; total time=   2.8s\n",
      "[CV] END stacking__cv=5, stacking__final_estimator__C=0.1, stacking__final_estimator__solver=lbfgs, stacking__stack_method=predict_proba; total time=  14.2s\n",
      "[CV] END stacking__cv=5, stacking__final_estimator__C=0.1, stacking__final_estimator__solver=lbfgs, stacking__stack_method=predict_proba; total time=  14.8s\n",
      "[CV] END stacking__cv=5, stacking__final_estimator__C=1, stacking__final_estimator__solver=liblinear, stacking__stack_method=auto; total time=  15.9s\n",
      "[CV] END stacking__cv=5, stacking__final_estimator__C=1, stacking__final_estimator__solver=liblinear, stacking__stack_method=auto; total time=  15.7s\n",
      "[CV] END stacking__cv=5, stacking__final_estimator__C=1, stacking__final_estimator__solver=liblinear, stacking__stack_method=auto; total time=  15.9s\n",
      "[CV] END stacking__cv=5, stacking__final_estimator__C=1, stacking__final_estimator__solver=liblinear, stacking__stack_method=predict_proba; total time=  15.6s\n",
      "[CV] END stacking__cv=5, stacking__final_estimator__C=1, stacking__final_estimator__solver=liblinear, stacking__stack_method=decision_function; total time=   2.7s\n",
      "[CV] END stacking__cv=5, stacking__final_estimator__C=1, stacking__final_estimator__solver=liblinear, stacking__stack_method=decision_function; total time=   3.2s\n",
      "[CV] END stacking__cv=5, stacking__final_estimator__C=1, stacking__final_estimator__solver=liblinear, stacking__stack_method=decision_function; total time=   3.2s\n",
      "[CV] END stacking__cv=5, stacking__final_estimator__C=1, stacking__final_estimator__solver=liblinear, stacking__stack_method=predict_proba; total time=  16.4s\n",
      "[CV] END stacking__cv=5, stacking__final_estimator__C=1, stacking__final_estimator__solver=liblinear, stacking__stack_method=predict_proba; total time=  16.7s\n",
      "[CV] END stacking__cv=5, stacking__final_estimator__C=1, stacking__final_estimator__solver=lbfgs, stacking__stack_method=auto; total time=  16.7s\n",
      "[CV] END stacking__cv=5, stacking__final_estimator__C=1, stacking__final_estimator__solver=lbfgs, stacking__stack_method=auto; total time=  16.9s\n",
      "[CV] END stacking__cv=5, stacking__final_estimator__C=1, stacking__final_estimator__solver=lbfgs, stacking__stack_method=auto; total time=  16.0s\n",
      "[CV] END stacking__cv=5, stacking__final_estimator__C=1, stacking__final_estimator__solver=lbfgs, stacking__stack_method=predict_proba; total time=  15.7s\n",
      "[CV] END stacking__cv=5, stacking__final_estimator__C=1, stacking__final_estimator__solver=lbfgs, stacking__stack_method=decision_function; total time=   2.6s\n",
      "[CV] END stacking__cv=5, stacking__final_estimator__C=1, stacking__final_estimator__solver=lbfgs, stacking__stack_method=decision_function; total time=   2.6s\n",
      "[CV] END stacking__cv=5, stacking__final_estimator__C=1, stacking__final_estimator__solver=lbfgs, stacking__stack_method=decision_function; total time=   2.3s\n",
      "[CV] END stacking__cv=5, stacking__final_estimator__C=1, stacking__final_estimator__solver=lbfgs, stacking__stack_method=predict_proba; total time=  14.8s\n",
      "[CV] END stacking__cv=5, stacking__final_estimator__C=1, stacking__final_estimator__solver=lbfgs, stacking__stack_method=predict_proba; total time=  15.0s\n",
      "[CV] END stacking__cv=5, stacking__final_estimator__C=10, stacking__final_estimator__solver=liblinear, stacking__stack_method=auto; total time=  14.2s\n",
      "[CV] END stacking__cv=5, stacking__final_estimator__C=10, stacking__final_estimator__solver=liblinear, stacking__stack_method=auto; total time=  15.2s\n",
      "[CV] END stacking__cv=5, stacking__final_estimator__C=10, stacking__final_estimator__solver=liblinear, stacking__stack_method=auto; total time=  15.3s\n",
      "[CV] END stacking__cv=5, stacking__final_estimator__C=10, stacking__final_estimator__solver=liblinear, stacking__stack_method=predict_proba; total time=  15.3s\n",
      "[CV] END stacking__cv=5, stacking__final_estimator__C=10, stacking__final_estimator__solver=liblinear, stacking__stack_method=decision_function; total time=   3.5s\n",
      "[CV] END stacking__cv=5, stacking__final_estimator__C=10, stacking__final_estimator__solver=liblinear, stacking__stack_method=decision_function; total time=   3.5s\n",
      "[CV] END stacking__cv=5, stacking__final_estimator__C=10, stacking__final_estimator__solver=liblinear, stacking__stack_method=decision_function; total time=   3.0s\n",
      "[CV] END stacking__cv=5, stacking__final_estimator__C=10, stacking__final_estimator__solver=liblinear, stacking__stack_method=predict_proba; total time=  16.3s\n",
      "[CV] END stacking__cv=5, stacking__final_estimator__C=10, stacking__final_estimator__solver=liblinear, stacking__stack_method=predict_proba; total time=  15.6s\n",
      "[CV] END stacking__cv=5, stacking__final_estimator__C=10, stacking__final_estimator__solver=lbfgs, stacking__stack_method=auto; total time=  14.5s\n",
      "[CV] END stacking__cv=5, stacking__final_estimator__C=10, stacking__final_estimator__solver=lbfgs, stacking__stack_method=auto; total time=  15.1s\n",
      "[CV] END stacking__cv=5, stacking__final_estimator__C=10, stacking__final_estimator__solver=lbfgs, stacking__stack_method=auto; total time=  14.8s\n",
      "[CV] END stacking__cv=5, stacking__final_estimator__C=10, stacking__final_estimator__solver=lbfgs, stacking__stack_method=decision_function; total time=   2.5s\n",
      "[CV] END stacking__cv=5, stacking__final_estimator__C=10, stacking__final_estimator__solver=lbfgs, stacking__stack_method=predict_proba; total time=  15.2s\n",
      "[CV] END stacking__cv=5, stacking__final_estimator__C=10, stacking__final_estimator__solver=lbfgs, stacking__stack_method=decision_function; total time=   2.3s\n",
      "[CV] END stacking__cv=5, stacking__final_estimator__C=10, stacking__final_estimator__solver=lbfgs, stacking__stack_method=decision_function; total time=   2.3s\n",
      "[CV] END stacking__cv=5, stacking__final_estimator__C=10, stacking__final_estimator__solver=lbfgs, stacking__stack_method=predict_proba; total time=  14.4s\n",
      "[CV] END stacking__cv=5, stacking__final_estimator__C=10, stacking__final_estimator__solver=lbfgs, stacking__stack_method=predict_proba; total time=  12.8s\n",
      "Best Model Parameters: {'stacking__cv': 5, 'stacking__final_estimator__C': 10, 'stacking__final_estimator__solver': 'lbfgs', 'stacking__stack_method': 'auto'}\n"
     ]
    }
   ],
   "source": [
    "param_grid = {\n",
    "    'stacking__cv' : [3,5],\n",
    "    'stacking__final_estimator__C' : [0.01, 0.1, 1, 10],\n",
    "    'stacking__final_estimator__solver' : ['liblinear', 'lbfgs'],\n",
    "    'stacking__stack_method' : ['auto', 'predict_proba', 'decision_function']\n",
    "}\n",
    "\n",
    "num_features = ['tenure', 'MonthlyCharges']\n",
    "preprocessor = ColumnTransformer(\n",
    "    transformers=[('num', StandardScaler(), num_features)],\n",
    "    remainder = 'passthrough'\n",
    ")\n",
    "pipeline = Pipeline(steps=[\n",
    "    ('preprocessor', preprocessor),\n",
    "    ('stacking', stacking_clf)\n",
    "])\n",
    "\n",
    "grid_search = GridSearchCV(estimator=pipeline, param_grid=param_grid, cv=3, scoring='roc_auc', verbose=2, n_jobs=-1)\n",
    "grid_search.fit(X_train, y_train)\n",
    "best_model = grid_search.best_estimator_\n",
    "print(f\"Best Model Parameters: {grid_search.best_params_}\")"
   ]
  },
  {
   "cell_type": "code",
   "execution_count": 48,
   "metadata": {},
   "outputs": [
    {
     "name": "stdout",
     "output_type": "stream",
     "text": [
      "Classification Report Default Stacking Ensemble : \n",
      "               precision    recall  f1-score   support\n",
      "\n",
      "           0       0.84      0.90      0.87       725\n",
      "           1       0.65      0.51      0.57       260\n",
      "\n",
      "    accuracy                           0.80       985\n",
      "   macro avg       0.74      0.71      0.72       985\n",
      "weighted avg       0.79      0.80      0.79       985\n",
      "\n",
      "Classification Report Tuned Stacking Ensemble : \n",
      "               precision    recall  f1-score   support\n",
      "\n",
      "           0       0.84      0.90      0.87       725\n",
      "           1       0.66      0.51      0.57       260\n",
      "\n",
      "    accuracy                           0.80       985\n",
      "   macro avg       0.75      0.71      0.72       985\n",
      "weighted avg       0.79      0.80      0.79       985\n",
      "\n",
      "ROC AUC Score Default Stacking Ensemble : 0.84\n",
      "ROC AUC Score Tuned Stacking Ensemble : 0.84\n",
      "\n",
      "Confusion Matrix:\n",
      " [[655  70]\n",
      " [127 133]]\n"
     ]
    }
   ],
   "source": [
    "estimator = StackingClassifier(estimators=base_models, final_estimator=meta_model)\n",
    "estimator.fit(X_train, y_train)\n",
    "\n",
    "best_model = grid_search.best_estimator_\n",
    "\n",
    "y_pred_default = estimator.predict(X_test)\n",
    "y_pred_proba_default = estimator.predict_proba(X_test)\n",
    "\n",
    "y_pred_tuned = best_model.predict(X_test)\n",
    "y_pred_proba_tuned = best_model.predict_proba(X_test) [:, 1]\n",
    "\n",
    "roc_auc_default = roc_auc_score(y_test, y_pred_proba_default[:,1])\n",
    "roc_auc_tuned = roc_auc_score(y_test, y_pred_proba_tuned)\n",
    "\n",
    "conf_matrix = confusion_matrix(y_test, y_pred_tuned)\n",
    "\n",
    "report_default = classification_report(y_test, y_pred_default)\n",
    "report_tuned = classification_report(y_test, y_pred_tuned)\n",
    "\n",
    "print('Classification Report Default Stacking Ensemble : \\n', report_default)\n",
    "print('Classification Report Tuned Stacking Ensemble : \\n', report_tuned)\n",
    "print(f'ROC AUC Score Default Stacking Ensemble : {roc_auc_default:.2f}')\n",
    "print(f'ROC AUC Score Tuned Stacking Ensemble : {roc_auc_tuned:.2f}')\n",
    "print(\"\\nConfusion Matrix:\\n\", conf_matrix)"
   ]
  },
  {
   "cell_type": "markdown",
   "metadata": {},
   "source": [
    "### **Feature Importance**"
   ]
  },
  {
   "cell_type": "code",
   "execution_count": 49,
   "metadata": {},
   "outputs": [],
   "source": [
    "rf_model = best_model.named_steps['stacking'].estimators_[0]\n",
    "gb_model = best_model.named_steps['stacking'].estimators_[1]\n",
    "lr_model = best_model.named_steps['stacking'].final_estimator_\n",
    "\n",
    "\n",
    "rf_importance = rf_model.feature_importances_ if hasattr(rf_model, 'feature_importances_') else None\n",
    "gb_importance = gb_model.feature_importances_ if hasattr(gb_model, 'feature_importances_') else None\n",
    "lr_coef = lr_model.coef_ \n",
    "\n",
    "feature_names = best_model.named_steps['preprocessor'].get_feature_names_out()\n",
    "\n",
    "rf_feature_importances = pd.Series(rf_importance, index=feature_names).sort_values(ascending=False)\n",
    "gb_feature_importances = pd.Series(gb_importance, index=feature_names).sort_values(ascending=False)\n",
    "\n",
    "if lr_coef.ndim == 1:\n",
    "    lr_feature_importances = pd.Series(lr_coef[0], index=feature_names[:len(lr_coef[0])]).sort_values(ascending=False)\n",
    "else:\n",
    "    lr_feature_importances = pd.Series(lr_coef[0], index=feature_names[:len(lr_coef[0])]).sort_values(ascending=False)\n"
   ]
  },
  {
   "cell_type": "code",
   "execution_count": 50,
   "metadata": {},
   "outputs": [
    {
     "data": {
      "image/png": "[encoded data removed]",
      "text/plain": [
       "<Figure size 1500x1000 with 3 Axes>"
      ]
     },
     "metadata": {},
     "output_type": "display_data"
    }
   ],
   "source": [
    "plt.figure(figsize=(15,10))\n",
    "plt.subplot( 3, 1, 1)\n",
    "if rf_feature_importances is None:\n",
    "    plt.text(0.5, 0.5, 'Random Forest does not support feature_importances_', horizontalalignment='center', verticalalignment='center')\n",
    "else:\n",
    "    rf_feature_importances.head(10).plot(kind='barh', title='Random Forest Feature Importances')\n",
    "\n",
    "plt.subplot( 3, 1, 2)\n",
    "if gb_feature_importances is None:\n",
    "    plt.text(0.5, 0.5, 'Gradient Boosting does not support feature_importances_', horizontalalignment='center', verticalalignment='center')\n",
    "else:\n",
    "    gb_feature_importances.head(10).plot(kind='barh', title='Gradient Boosting Feature Importances')\n",
    "\n",
    "plt.subplot( 3, 1, 3)\n",
    "lr_feature_importances.head(10).plot(kind='barh', title='Logistic Regression Coefficients')\n",
    "\n",
    "plt.tight_layout()\n",
    "plt.show()"
   ]
  },
  {
   "cell_type": "markdown",
   "metadata": {},
   "source": [
    "### **Conclusion & Recommendation**"
   ]
  },
  {
   "cell_type": "code",
   "execution_count": 51,
   "metadata": {},
   "outputs": [
    {
     "name": "stdout",
     "output_type": "stream",
     "text": [
      "Classification Report Tuned Stacking Model:\n",
      "               precision    recall  f1-score   support\n",
      "\n",
      "           0       0.84      0.90      0.87       725\n",
      "           1       0.66      0.51      0.57       260\n",
      "\n",
      "    accuracy                           0.80       985\n",
      "   macro avg       0.75      0.71      0.72       985\n",
      "weighted avg       0.79      0.80      0.79       985\n",
      "\n"
     ]
    }
   ],
   "source": [
    "print('Classification Report Tuned Stacking Model:\\n', report_tuned)"
   ]
  },
  {
   "cell_type": "markdown",
   "metadata": {},
   "source": [
    "**Conclusion**\n",
    "\n",
    "The results show that tenure(num__tenure), monthly charges(num__MonthlyCharges), and dependents (remainder__Dependents) are the top predictors of customer churn. While the Stacking Ensemble model achieves 80% accuracy and an ROC AUC of 84%, recall for churned customers remains low at 51%, indicating missed opportunities in identifying at-risk customers.\n",
    "\n",
    "**Recommendations**\n",
    "1. Target High-Risk Groups: Focus on customers with short tenure and high monthly charges. Offer incentives, discounts, or loyalty programs\n",
    "2. Improve Recall: Address class imbalance with techniques like SMOTE or adjust model thresholds for better churn detection\n",
    "3. Feature Enhancements: Combine related features (e.g. tenure+ contract types) and include behavior metrics like billing changes\n",
    "4. Optimizing Models: Fine tune Random Forest and explore weighted class strategies for better recall\n",
    "\n",
    "By targeting these key areas, churn prediction accuracy can improve, enabling more effective retention strategies."
   ]
  },
  {
   "cell_type": "code",
   "execution_count": 52,
   "metadata": {},
   "outputs": [
    {
     "name": "stdout",
     "output_type": "stream",
     "text": [
      "Model saved as 'model.pkl'\n"
     ]
    }
   ],
   "source": [
    "with open('model.pkl', 'wb') as file:\n",
    "    pickle.dump(best_model, file)\n",
    "\n",
    "print(\"Model saved as 'model.pkl'\")"
   ]
  },
  {
   "cell_type": "code",
   "execution_count": 53,
   "metadata": {},
   "outputs": [
    {
     "name": "stdout",
     "output_type": "stream",
     "text": [
      "Model loaded successfully!\n"
     ]
    }
   ],
   "source": [
    "with open('model.pkl', 'rb') as file:\n",
    "    loaded_model = pickle.load(file)\n",
    "print('Model loaded successfully!')"
   ]
  },
  {
   "cell_type": "code",
   "execution_count": 54,
   "metadata": {},
   "outputs": [
    {
     "name": "stdout",
     "output_type": "stream",
     "text": [
      "ROC AUC Score for Loaded Model: 0.84\n"
     ]
    }
   ],
   "source": [
    "y_pred_loaded = loaded_model.predict(X_test)\n",
    "y_pred_proba_loaded = loaded_model.predict_proba(X_test)[:, 1]\n",
    "\n",
    "roc_auc_loaded = roc_auc_score(y_test, y_pred_proba_loaded)\n",
    "print(f\"ROC AUC Score for Loaded Model: {roc_auc_loaded:.2f}\")"
   ]
  }
 ],
 "metadata": {
  "kernelspec": {
   "display_name": "base",
   "language": "python",
   "name": "python3"
  },
  "language_info": {
   "codemirror_mode": {
    "name": "ipython",
    "version": 3
   },
   "file_extension": ".py",
   "mimetype": "text/x-python",
   "name": "python",
   "nbconvert_exporter": "python",
   "pygments_lexer": "ipython3",
   "version": "3.12.4"
  }
 },
 "nbformat": 4,
 "nbformat_minor": 2
}
